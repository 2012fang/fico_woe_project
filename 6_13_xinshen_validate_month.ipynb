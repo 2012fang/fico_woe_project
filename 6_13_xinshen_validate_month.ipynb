{
 "cells": [
  {
   "cell_type": "code",
   "execution_count": 1,
   "metadata": {
    "collapsed": false
   },
   "outputs": [
    {
     "name": "stderr",
     "output_type": "stream",
     "text": [
      "D:\\software\\Anaconda2\\lib\\site-packages\\ipykernel\\__main__.py:7: DeprecationWarning: The compiler package is deprecated and removed in Python 3.x.\n",
      "D:\\software\\Anaconda2\\lib\\site-packages\\sklearn\\cross_validation.py:44: DeprecationWarning: This module was deprecated in version 0.18 in favor of the model_selection module into which all the refactored classes and functions are moved. Also note that the interface of the new CV iterators are different from that of this module. This module will be removed in 0.20.\n",
      "  \"This module will be removed in 0.20.\", DeprecationWarning)\n"
     ]
    },
    {
     "name": "stdout",
     "output_type": "stream",
     "text": [
      "the train data pos tag=341090,neg tag=141725\n",
      "the validate data pos tag=125636,neg tag=56210\n",
      "the test data pos tag=67672,neg tag=41404\n"
     ]
    }
   ],
   "source": [
    "# coding: utf-8\n",
    "from __future__ import division\n",
    "import matplotlib.pyplot as plt\n",
    "import numpy as np\n",
    "import pandas as pd\n",
    "import time\n",
    "from compiler.ast import flatten\n",
    "import math\n",
    "import sys,random,os,cPickle\n",
    "from sklearn.cross_validation import train_test_split\n",
    "import matplotlib.pylab as plt\n",
    "from sklearn import metrics\n",
    "from pandas import DataFrame\n",
    "from pandas import Series\n",
    "from scipy.stats import mode\n",
    "\n",
    "from sklearn.linear_model import LogisticRegression\n",
    "from sklearn import metrics,cross_validation\n",
    "from sklearn.metrics import roc_auc_score\n",
    "from sklearn.cross_validation import StratifiedKFold\n",
    "from sklearn.externals import joblib\n",
    "from sklearn.preprocessing import MinMaxScaler\n",
    "xinshen_dir=\"D:\\\\fg_workspace\\\\python\\\\xinshen\\\\second\\\\new_data\\\\\"\n",
    "train=pd.read_csv(xinshen_dir+\"xinshen_train_filled_na1.csv\")\n",
    "validate=pd.read_csv(xinshen_dir+\"xinshen_validate_filled_na1.csv\")\n",
    "test=pd.read_csv(xinshen_dir+\"xinshen_test_filled_na1.csv\")\n",
    "\n",
    "print 'the train data pos tag=%s,neg tag=%s'%(len(train[train['label']==1]),len(train[train['label']==0]))\n",
    "print 'the validate data pos tag=%s,neg tag=%s'%(len(validate[validate['label']==1]),len(validate[validate['label']==0]))\n",
    "print 'the test data pos tag=%s,neg tag=%s'%(len(test[test['label']==1]),len(test[test['label']==0]))\n",
    "\n",
    "\n",
    "feat_imp=pd.read_csv(xinshen_dir+\"train_features.csv\")"
   ]
  },
  {
   "cell_type": "code",
   "execution_count": 2,
   "metadata": {
    "collapsed": true
   },
   "outputs": [],
   "source": [
    "dh_train_ids=pd.read_csv(xinshen_dir+\"dh_apply_ids_train.csv\")\n",
    "dh_validate_ids=pd.read_csv(xinshen_dir+\"dh_apply_ids_validate.csv\")\n",
    "dh_test_ids=pd.read_csv(xinshen_dir+\"dh_apply_ids_test.csv\")"
   ]
  },
  {
   "cell_type": "code",
   "execution_count": 16,
   "metadata": {
    "collapsed": true
   },
   "outputs": [],
   "source": [
    "dh_train_list=dh_train_ids['apply_id'].tolist()\n",
    "dh_validate_list=dh_validate_ids['apply_id'].tolist()\n",
    "dh_test_list=dh_test_ids['apply_id'].tolist()"
   ]
  },
  {
   "cell_type": "code",
   "execution_count": 17,
   "metadata": {
    "collapsed": true
   },
   "outputs": [],
   "source": [
    "def isDhLabel(x,listA):\n",
    "    if x in listA:\n",
    "        return 1\n",
    "    else:\n",
    "        return 0"
   ]
  },
  {
   "cell_type": "code",
   "execution_count": null,
   "metadata": {
    "collapsed": true
   },
   "outputs": [],
   "source": [
    "train['is_dh']=train['apply_id'].apply(lambda x:isDhLabel(x,dh_train_list))"
   ]
  },
  {
   "cell_type": "code",
   "execution_count": null,
   "metadata": {
    "collapsed": false
   },
   "outputs": [],
   "source": [
    "train[['apply_id','is_dh','label']].head()"
   ]
  },
  {
   "cell_type": "code",
   "execution_count": null,
   "metadata": {
    "collapsed": true
   },
   "outputs": [],
   "source": [
    "validate['is_dh']=validate['apply_id'].apply(lambda x:isDhLabel(x,dh_validate_list))\n",
    "test['is_dh']=test['apply_id'].apply(lambda x:isDhLabel(x,dh_test_list))"
   ]
  },
  {
   "cell_type": "code",
   "execution_count": null,
   "metadata": {
    "collapsed": false
   },
   "outputs": [],
   "source": [
    "train.head()"
   ]
  },
  {
   "cell_type": "code",
   "execution_count": 3,
   "metadata": {
    "collapsed": true
   },
   "outputs": [],
   "source": [
    "def get_month(x):\n",
    "    return int(x.split(\"-\")[1])"
   ]
  },
  {
   "cell_type": "code",
   "execution_count": 4,
   "metadata": {
    "collapsed": true
   },
   "outputs": [],
   "source": [
    "train['month']=train['time'].apply(lambda x:get_month(x))\n",
    "validate['month']=validate['time'].apply(lambda x:get_month(x))\n",
    "test['month']=test['time'].apply(lambda x:get_month(x))"
   ]
  },
  {
   "cell_type": "code",
   "execution_count": 5,
   "metadata": {
    "collapsed": false
   },
   "outputs": [
    {
     "name": "stdout",
     "output_type": "stream",
     "text": [
      "482815\n",
      "181846\n",
      "109076\n"
     ]
    }
   ],
   "source": [
    "print len(train)\n",
    "print len(validate)\n",
    "print len(test)"
   ]
  },
  {
   "cell_type": "code",
   "execution_count": 6,
   "metadata": {
    "collapsed": false
   },
   "outputs": [
    {
     "name": "stdout",
     "output_type": "stream",
     "text": [
      "2015-01-01 00:34:49 2015-12-31 18:06:23\n",
      "2016-01-03 15:40:02 2016-06-30 17:11:09\n",
      "2016-07-01 08:09:09 2016-09-30 16:59:56\n"
     ]
    }
   ],
   "source": [
    "print min(train['time']),max(train['time'])\n",
    "print min(validate['time']),max(validate['time'])\n",
    "print min(test['time']),max(test['time'])"
   ]
  },
  {
   "cell_type": "code",
   "execution_count": 13,
   "metadata": {
    "collapsed": true
   },
   "outputs": [],
   "source": [
    "new_train=train\n",
    "new_validate=validate\n",
    "new_test=test\n",
    "dh_validate=pd.merge(validate,dh_validate_ids,how = 'inner',on='apply_id')\n",
    "dh_test=pd.merge(test,dh_test_ids,how = 'inner',on='apply_id')"
   ]
  },
  {
   "cell_type": "code",
   "execution_count": 14,
   "metadata": {
    "collapsed": true
   },
   "outputs": [],
   "source": [
    "dh_validate_overdue=dh_validate#[dh_validate['label']==0]\n",
    "dh_test_overdue=dh_test#[dh_test['label']==0]"
   ]
  },
  {
   "cell_type": "code",
   "execution_count": 15,
   "metadata": {
    "collapsed": false
   },
   "outputs": [
    {
     "name": "stdout",
     "output_type": "stream",
     "text": [
      "128426\n",
      "2016-01-03 15:40:02 2016-06-30 17:11:09\n"
     ]
    }
   ],
   "source": [
    "print len(dh_validate_overdue)\n",
    "print min(dh_validate_overdue['time']),max(dh_validate_overdue['time'])"
   ]
  },
  {
   "cell_type": "code",
   "execution_count": 20,
   "metadata": {
    "collapsed": false
   },
   "outputs": [],
   "source": [
    "# test_sub=test[test['month']==9]"
   ]
  },
  {
   "cell_type": "code",
   "execution_count": 7,
   "metadata": {
    "collapsed": false
   },
   "outputs": [],
   "source": [
    "train.drop(['time','apply_id','bs_apply_id','transport_id','mortgagor_id','month'],axis=1,inplace=True)\n",
    "validate.drop(['time','apply_id','bs_apply_id','transport_id','mortgagor_id','month'],axis=1,inplace=True)"
   ]
  },
  {
   "cell_type": "code",
   "execution_count": 8,
   "metadata": {
    "collapsed": false
   },
   "outputs": [],
   "source": [
    "test.drop(['time','apply_id','bs_apply_id','transport_id','mortgagor_id','month'],axis=1,inplace=True)"
   ]
  },
  {
   "cell_type": "code",
   "execution_count": null,
   "metadata": {
    "collapsed": false
   },
   "outputs": [],
   "source": [
    "dh_validate_overdue.drop(['time','apply_id','bs_apply_id','transport_id','mortgagor_id','month'],axis=1,inplace=True)\n",
    "dh_test_overdue.drop(['time','apply_id','bs_apply_id','transport_id','mortgagor_id','month'],axis=1,inplace=True)"
   ]
  },
  {
   "cell_type": "code",
   "execution_count": 9,
   "metadata": {
    "collapsed": false
   },
   "outputs": [
    {
     "data": {
      "text/html": [
       "<div>\n",
       "<table border=\"1\" class=\"dataframe\">\n",
       "  <thead>\n",
       "    <tr style=\"text-align: right;\">\n",
       "      <th></th>\n",
       "      <th>coef</th>\n",
       "      <th>columns</th>\n",
       "    </tr>\n",
       "  </thead>\n",
       "  <tbody>\n",
       "    <tr>\n",
       "      <th>0</th>\n",
       "      <td>95.965002</td>\n",
       "      <td>default_times</td>\n",
       "    </tr>\n",
       "    <tr>\n",
       "      <th>1</th>\n",
       "      <td>24.025560</td>\n",
       "      <td>month_income</td>\n",
       "    </tr>\n",
       "    <tr>\n",
       "      <th>2</th>\n",
       "      <td>16.098480</td>\n",
       "      <td>n1</td>\n",
       "    </tr>\n",
       "    <tr>\n",
       "      <th>3</th>\n",
       "      <td>14.299903</td>\n",
       "      <td>month_payment</td>\n",
       "    </tr>\n",
       "    <tr>\n",
       "      <th>4</th>\n",
       "      <td>7.245070</td>\n",
       "      <td>mean</td>\n",
       "    </tr>\n",
       "    <tr>\n",
       "      <th>5</th>\n",
       "      <td>6.773414</td>\n",
       "      <td>n2</td>\n",
       "    </tr>\n",
       "    <tr>\n",
       "      <th>6</th>\n",
       "      <td>6.643913</td>\n",
       "      <td>contact_num</td>\n",
       "    </tr>\n",
       "    <tr>\n",
       "      <th>7</th>\n",
       "      <td>5.773904</td>\n",
       "      <td>consumption_habits</td>\n",
       "    </tr>\n",
       "    <tr>\n",
       "      <th>8</th>\n",
       "      <td>5.524379</td>\n",
       "      <td>product_type</td>\n",
       "    </tr>\n",
       "    <tr>\n",
       "      <th>9</th>\n",
       "      <td>5.490790</td>\n",
       "      <td>pledge_num</td>\n",
       "    </tr>\n",
       "    <tr>\n",
       "      <th>10</th>\n",
       "      <td>4.380812</td>\n",
       "      <td>latest_month_income</td>\n",
       "    </tr>\n",
       "    <tr>\n",
       "      <th>11</th>\n",
       "      <td>3.372472</td>\n",
       "      <td>nomal_card_num</td>\n",
       "    </tr>\n",
       "    <tr>\n",
       "      <th>12</th>\n",
       "      <td>3.275108</td>\n",
       "      <td>accept_moth_repay</td>\n",
       "    </tr>\n",
       "    <tr>\n",
       "      <th>13</th>\n",
       "      <td>3.185121</td>\n",
       "      <td>loan_max_num</td>\n",
       "    </tr>\n",
       "    <tr>\n",
       "      <th>14</th>\n",
       "      <td>3.185121</td>\n",
       "      <td>max_loan_age</td>\n",
       "    </tr>\n",
       "    <tr>\n",
       "      <th>15</th>\n",
       "      <td>2.423547</td>\n",
       "      <td>nomal_card_used_amount</td>\n",
       "    </tr>\n",
       "    <tr>\n",
       "      <th>16</th>\n",
       "      <td>2.338833</td>\n",
       "      <td>fee_months</td>\n",
       "    </tr>\n",
       "    <tr>\n",
       "      <th>17</th>\n",
       "      <td>2.255544</td>\n",
       "      <td>max_credit_card_age</td>\n",
       "    </tr>\n",
       "    <tr>\n",
       "      <th>18</th>\n",
       "      <td>2.177030</td>\n",
       "      <td>applying_count</td>\n",
       "    </tr>\n",
       "    <tr>\n",
       "      <th>19</th>\n",
       "      <td>1.827164</td>\n",
       "      <td>risk_industry</td>\n",
       "    </tr>\n",
       "    <tr>\n",
       "      <th>20</th>\n",
       "      <td>1.627224</td>\n",
       "      <td>gdz_num</td>\n",
       "    </tr>\n",
       "    <tr>\n",
       "      <th>21</th>\n",
       "      <td>1.455492</td>\n",
       "      <td>bad_dept_card_num</td>\n",
       "    </tr>\n",
       "    <tr>\n",
       "      <th>22</th>\n",
       "      <td>1.334571</td>\n",
       "      <td>n3</td>\n",
       "    </tr>\n",
       "    <tr>\n",
       "      <th>23</th>\n",
       "      <td>1.221447</td>\n",
       "      <td>sum_overdue_sum</td>\n",
       "    </tr>\n",
       "    <tr>\n",
       "      <th>24</th>\n",
       "      <td>1.215839</td>\n",
       "      <td>non_activate_card_num</td>\n",
       "    </tr>\n",
       "    <tr>\n",
       "      <th>25</th>\n",
       "      <td>1.109628</td>\n",
       "      <td>query_times8</td>\n",
       "    </tr>\n",
       "    <tr>\n",
       "      <th>26</th>\n",
       "      <td>0.977238</td>\n",
       "      <td>industry1</td>\n",
       "    </tr>\n",
       "    <tr>\n",
       "      <th>27</th>\n",
       "      <td>0.894177</td>\n",
       "      <td>query_times5</td>\n",
       "    </tr>\n",
       "    <tr>\n",
       "      <th>28</th>\n",
       "      <td>0.847306</td>\n",
       "      <td>max_break_periods</td>\n",
       "    </tr>\n",
       "    <tr>\n",
       "      <th>29</th>\n",
       "      <td>0.728615</td>\n",
       "      <td>credit_card_max_num</td>\n",
       "    </tr>\n",
       "    <tr>\n",
       "      <th>30</th>\n",
       "      <td>0.703581</td>\n",
       "      <td>total_overdue_num_l</td>\n",
       "    </tr>\n",
       "    <tr>\n",
       "      <th>31</th>\n",
       "      <td>0.670615</td>\n",
       "      <td>outstanding_loan_contract</td>\n",
       "    </tr>\n",
       "    <tr>\n",
       "      <th>32</th>\n",
       "      <td>0.670573</td>\n",
       "      <td>max_loan_amount</td>\n",
       "    </tr>\n",
       "    <tr>\n",
       "      <th>33</th>\n",
       "      <td>0.670442</td>\n",
       "      <td>total_loan_amount</td>\n",
       "    </tr>\n",
       "    <tr>\n",
       "      <th>34</th>\n",
       "      <td>0.658410</td>\n",
       "      <td>job_position</td>\n",
       "    </tr>\n",
       "    <tr>\n",
       "      <th>35</th>\n",
       "      <td>0.652024</td>\n",
       "      <td>age</td>\n",
       "    </tr>\n",
       "    <tr>\n",
       "      <th>36</th>\n",
       "      <td>0.646983</td>\n",
       "      <td>domicile_province</td>\n",
       "    </tr>\n",
       "    <tr>\n",
       "      <th>37</th>\n",
       "      <td>0.626577</td>\n",
       "      <td>max_diploma</td>\n",
       "    </tr>\n",
       "    <tr>\n",
       "      <th>38</th>\n",
       "      <td>0.602612</td>\n",
       "      <td>loan_type</td>\n",
       "    </tr>\n",
       "    <tr>\n",
       "      <th>39</th>\n",
       "      <td>0.590990</td>\n",
       "      <td>known_creditease</td>\n",
       "    </tr>\n",
       "  </tbody>\n",
       "</table>\n",
       "</div>"
      ],
      "text/plain": [
       "         coef                    columns\n",
       "0   95.965002              default_times\n",
       "1   24.025560               month_income\n",
       "2   16.098480                         n1\n",
       "3   14.299903              month_payment\n",
       "4    7.245070                       mean\n",
       "5    6.773414                         n2\n",
       "6    6.643913                contact_num\n",
       "7    5.773904         consumption_habits\n",
       "8    5.524379               product_type\n",
       "9    5.490790                 pledge_num\n",
       "10   4.380812        latest_month_income\n",
       "11   3.372472             nomal_card_num\n",
       "12   3.275108          accept_moth_repay\n",
       "13   3.185121               loan_max_num\n",
       "14   3.185121               max_loan_age\n",
       "15   2.423547     nomal_card_used_amount\n",
       "16   2.338833                 fee_months\n",
       "17   2.255544        max_credit_card_age\n",
       "18   2.177030             applying_count\n",
       "19   1.827164              risk_industry\n",
       "20   1.627224                    gdz_num\n",
       "21   1.455492          bad_dept_card_num\n",
       "22   1.334571                         n3\n",
       "23   1.221447            sum_overdue_sum\n",
       "24   1.215839      non_activate_card_num\n",
       "25   1.109628               query_times8\n",
       "26   0.977238                  industry1\n",
       "27   0.894177               query_times5\n",
       "28   0.847306          max_break_periods\n",
       "29   0.728615        credit_card_max_num\n",
       "30   0.703581        total_overdue_num_l\n",
       "31   0.670615  outstanding_loan_contract\n",
       "32   0.670573            max_loan_amount\n",
       "33   0.670442          total_loan_amount\n",
       "34   0.658410               job_position\n",
       "35   0.652024                        age\n",
       "36   0.646983          domicile_province\n",
       "37   0.626577                max_diploma\n",
       "38   0.602612                  loan_type\n",
       "39   0.590990           known_creditease"
      ]
     },
     "execution_count": 9,
     "metadata": {},
     "output_type": "execute_result"
    }
   ],
   "source": [
    "feat_imp.head(40)"
   ]
  },
  {
   "cell_type": "code",
   "execution_count": 10,
   "metadata": {
    "collapsed": false
   },
   "outputs": [
    {
     "name": "stdout",
     "output_type": "stream",
     "text": [
      "['default_times', 'month_income', 'n1', 'month_payment', 'mean', 'n2', 'contact_num', 'consumption_habits', 'product_type', 'pledge_num', 'latest_month_income', 'nomal_card_num', 'accept_moth_repay', 'loan_max_num', 'max_loan_age', 'nomal_card_used_amount', 'fee_months', 'max_credit_card_age', 'applying_count', 'risk_industry']\n"
     ]
    }
   ],
   "source": [
    "selected_features=feat_imp[feat_imp['coef']>0]['columns'].tolist()[:20]\n",
    "print selected_features"
   ]
  },
  {
   "cell_type": "markdown",
   "metadata": {},
   "source": [
    "WOE变量 ：暂时选择consumption_habits  product_type   risk_industry"
   ]
  },
  {
   "cell_type": "code",
   "execution_count": 11,
   "metadata": {
    "collapsed": false
   },
   "outputs": [
    {
     "name": "stdout",
     "output_type": "stream",
     "text": [
      "[1.0, -1.0, 0.0, 2.0, 3.0]\n",
      "[-1.0, 1.0, 0.0, 2.0]\n",
      "[-1.0, 1.0, 0.0, 2.0, 3.0]\n"
     ]
    }
   ],
   "source": [
    "print train['consumption_habits'].value_counts().index.tolist()\n",
    "print validate['consumption_habits'].value_counts().index.tolist()\n",
    "print test['consumption_habits'].value_counts().index.tolist()"
   ]
  },
  {
   "cell_type": "code",
   "execution_count": 21,
   "metadata": {
    "collapsed": false
   },
   "outputs": [
    {
     "name": "stdout",
     "output_type": "stream",
     "text": [
      "-1      260340\n",
      " 0      145981\n",
      " 1       71590\n",
      " 2        4473\n",
      " 3         379\n",
      " 4          26\n",
      " 5          13\n",
      " 6           4\n",
      " 450         1\n",
      " 420         1\n",
      " 401         1\n",
      " 310         1\n",
      " 188         1\n",
      " 182         1\n",
      " 485         1\n",
      " 110         1\n",
      " 120         1\n",
      "Name: default_times, dtype: int64\n"
     ]
    }
   ],
   "source": [
    "print train['default_times'].value_counts()"
   ]
  },
  {
   "cell_type": "code",
   "execution_count": 20,
   "metadata": {
    "collapsed": false
   },
   "outputs": [
    {
     "name": "stdout",
     "output_type": "stream",
     "text": [
      "-inf\n"
     ]
    }
   ],
   "source": [
    "print np.log(0)"
   ]
  },
  {
   "cell_type": "code",
   "execution_count": 16,
   "metadata": {
    "collapsed": false
   },
   "outputs": [
    {
     "name": "stdout",
     "output_type": "stream",
     "text": [
      " 0    67346\n",
      " 1    66750\n",
      "-1    47750\n",
      "Name: risk_industry, dtype: int64\n"
     ]
    }
   ],
   "source": [
    "print validate['risk_industry'].value_counts()"
   ]
  },
  {
   "cell_type": "code",
   "execution_count": 17,
   "metadata": {
    "collapsed": false
   },
   "outputs": [
    {
     "name": "stdout",
     "output_type": "stream",
     "text": [
      "-1    38794\n",
      " 0    35479\n",
      " 1    34803\n",
      "Name: risk_industry, dtype: int64\n"
     ]
    }
   ],
   "source": [
    "print test['risk_industry'].value_counts()"
   ]
  },
  {
   "cell_type": "code",
   "execution_count": 40,
   "metadata": {
    "collapsed": true
   },
   "outputs": [],
   "source": [
    "def generate_woe_indicator(x,bad,good):\n",
    "    x0=x[0]\n",
    "    x1=x[1]\n",
    "    return np.log((x0*1.0/x1)/(bad*1.0/good))"
   ]
  },
  {
   "cell_type": "code",
   "execution_count": 43,
   "metadata": {
    "collapsed": false
   },
   "outputs": [],
   "source": [
    "# c_train_df=train['product_type'].groupby([train['consumption_habits'],train['label']]).count()\n",
    "c_train_df=pd.crosstab(train.consumption_habits,train.label,margins=True)\n",
    "c_train_df.reset_index(inplace=True)\n",
    "c_train_df.drop([\"All\"],axis=1,inplace=True)\n",
    "c_train_df.columns=['consumption_habits','bad','good']\n",
    "c_total_bad=c_train_df[c_train_df['consumption_habits']=='All']['bad'].tolist()[0]\n",
    "c_total_good=c_train_df[c_train_df['consumption_habits']=='All']['good'].tolist()[0]\n",
    "c_train_df=c_train_df[c_train_df['consumption_habits']!='All']\n",
    "c_train_df['consumption_habits_woe']=c_train_df[['bad','good']].apply(lambda x:generate_woe_indicator(x,c_total_bad,c_total_good),axis=1)\n",
    "\n",
    "p_train_df=pd.crosstab(train.product_type,train.label,margins=True)\n",
    "p_train_df.reset_index(inplace=True)\n",
    "p_train_df.drop([\"All\"],axis=1,inplace=True)\n",
    "p_train_df.columns=['product_type','bad','good']\n",
    "p_total_bad=p_train_df[p_train_df['product_type']=='All']['bad'].tolist()[0]\n",
    "p_total_good=p_train_df[p_train_df['product_type']=='All']['good'].tolist()[0]\n",
    "p_train_df=p_train_df[p_train_df['product_type']!='All']\n",
    "p_train_df['product_type_woe']=p_train_df[['bad','good']].apply(lambda x:generate_woe_indicator(x,p_total_bad,p_total_good),axis=1)\n",
    "\n",
    "r_train_df=pd.crosstab(train.risk_industry,train.label,margins=True)\n",
    "r_train_df.reset_index(inplace=True)\n",
    "r_train_df.drop([\"All\"],axis=1,inplace=True)\n",
    "r_train_df.columns=['risk_industry','bad','good']\n",
    "r_total_bad=r_train_df[r_train_df['risk_industry']=='All']['bad'].tolist()[0]\n",
    "r_total_good=r_train_df[r_train_df['risk_industry']=='All']['good'].tolist()[0]\n",
    "r_train_df=r_train_df[r_train_df['risk_industry']!='All']\n",
    "r_train_df['risk_industry_woe']=r_train_df[['bad','good']].apply(lambda x:generate_woe_indicator(x,r_total_bad,r_total_good),axis=1)"
   ]
  },
  {
   "cell_type": "code",
   "execution_count": 44,
   "metadata": {
    "collapsed": false
   },
   "outputs": [
    {
     "name": "stdout",
     "output_type": "stream",
     "text": [
      "  consumption_habits    bad    good  consumption_habits_woe\n",
      "0                 -1  95490   68993                1.203274\n",
      "1                  0  25858   56595                0.094957\n",
      "2                  1  20315  214690               -1.479578\n",
      "3                  2     62     811               -1.692876\n",
      "4                  3      0       1                    -inf\n",
      "  product_type    bad    good  product_type_woe\n",
      "0            1  86123  154904          0.291229\n",
      "1            3  34718  144278         -0.546226\n",
      "2            5      0      16              -inf\n",
      "3            6      6      77         -1.673788\n",
      "4            7  20878   41807          0.183890\n",
      "5           28      0       8              -inf\n",
      "  risk_industry    bad    good  risk_industry_woe\n",
      "0            -1  73017      11           9.678810\n",
      "1             0  33886  176456          -0.771812\n",
      "2             1  34822  164623          -0.675151\n"
     ]
    }
   ],
   "source": [
    "print c_train_df\n",
    "print p_train_df\n",
    "print r_train_df"
   ]
  },
  {
   "cell_type": "code",
   "execution_count": 45,
   "metadata": {
    "collapsed": true
   },
   "outputs": [],
   "source": [
    "def log_binary(x):\n",
    "    return np.log(x)"
   ]
  },
  {
   "cell_type": "code",
   "execution_count": 50,
   "metadata": {
    "collapsed": false
   },
   "outputs": [],
   "source": [
    "woe_features=['consumption_habits','product_type','risk_industry']"
   ]
  },
  {
   "cell_type": "code",
   "execution_count": 46,
   "metadata": {
    "collapsed": false
   },
   "outputs": [
    {
     "name": "stdout",
     "output_type": "stream",
     "text": [
      "['default_times', 'month_income', 'n1', 'month_payment', 'mean', 'n2', 'contact_num', 'consumption_habits', 'product_type', 'pledge_num', 'latest_month_income', 'nomal_card_num', 'accept_moth_repay', 'loan_max_num', 'max_loan_age', 'nomal_card_used_amount', 'fee_months', 'max_credit_card_age', 'applying_count', 'risk_industry']\n"
     ]
    }
   ],
   "source": [
    "print selected_features"
   ]
  },
  {
   "cell_type": "code",
   "execution_count": 47,
   "metadata": {
    "collapsed": true
   },
   "outputs": [],
   "source": [
    "for column_name in selected_features:\n",
    "    new_name=column_name+\"_log\"\n",
    "    train[new_name]=train[column_name].apply(lambda x:log_binary(x))"
   ]
  },
  {
   "cell_type": "code",
   "execution_count": 51,
   "metadata": {
    "collapsed": false
   },
   "outputs": [
    {
     "name": "stdout",
     "output_type": "stream",
     "text": [
      "   label  city_id  domicile_province  domicile_city  resident_province  \\\n",
      "0      1   320500             320000         320900             320000   \n",
      "1      1   410100             410000         410100             410000   \n",
      "2      1   150400             150000         150400             150000   \n",
      "3      1   370300             370000         371600             370000   \n",
      "4      0   350200             350000         350200             350000   \n",
      "\n",
      "   resident_city  identity_address_province  identity_address_city  \\\n",
      "0         320500                     320000                 320500   \n",
      "1         410100                     410000                 410100   \n",
      "2         150400                     150000                 150400   \n",
      "3         371600                     370000                 371600   \n",
      "4         350200                     350000                 350200   \n",
      "\n",
      "   apply_max_amount  long_repayment_term        ...          \\\n",
      "0             60000                   24        ...           \n",
      "1             80000                   36        ...           \n",
      "2             50000                   36        ...           \n",
      "3             80000                   24        ...           \n",
      "4             50000                   36        ...           \n",
      "\n",
      "   consumption_habits_3.0  product_type_1  product_type_3  product_type_5  \\\n",
      "0                       0               1               0               0   \n",
      "1                       0               1               0               0   \n",
      "2                       0               0               1               0   \n",
      "3                       0               1               0               0   \n",
      "4                       0               1               0               0   \n",
      "\n",
      "   product_type_6  product_type_7  product_type_28  risk_industry_-1.0  \\\n",
      "0               0               0                0                   0   \n",
      "1               0               0                0                   0   \n",
      "2               0               0                0                   0   \n",
      "3               0               0                0                   0   \n",
      "4               0               0                0                   0   \n",
      "\n",
      "   risk_industry_0.0  risk_industry_1.0  \n",
      "0                  0                  1  \n",
      "1                  0                  1  \n",
      "2                  1                  0  \n",
      "3                  0                  1  \n",
      "4                  0                  1  \n",
      "\n",
      "[5 rows x 192 columns]\n"
     ]
    }
   ],
   "source": [
    "train=pd.get_dummies(train, columns=woe_features)\n",
    "print train.head()"
   ]
  },
  {
   "cell_type": "code",
   "execution_count": 52,
   "metadata": {
    "collapsed": true
   },
   "outputs": [],
   "source": [
    "for column_name in selected_features:\n",
    "    new_name=column_name+\"_log\"\n",
    "    validate[new_name]=validate[column_name].apply(lambda x:log_binary(x))\n",
    "    test[new_name]=test[column_name].apply(lambda x:log_binary(x))\n",
    "validate=pd.get_dummies(validate, columns=woe_features)\n",
    "test=pd.get_dummies(test, columns=woe_features)\n",
    "    "
   ]
  },
  {
   "cell_type": "code",
   "execution_count": 55,
   "metadata": {
    "collapsed": false
   },
   "outputs": [
    {
     "ename": "KeyError",
     "evalue": "'product_type'",
     "output_type": "error",
     "traceback": [
      "\u001b[1;31m---------------------------------------------------------------------------\u001b[0m",
      "\u001b[1;31mKeyError\u001b[0m                                  Traceback (most recent call last)",
      "\u001b[1;32m<ipython-input-55-9356b8aa52f5>\u001b[0m in \u001b[0;36m<module>\u001b[1;34m()\u001b[0m\n\u001b[1;32m----> 1\u001b[1;33m \u001b[0mtest\u001b[0m\u001b[1;33m[\u001b[0m\u001b[1;34m'product_type'\u001b[0m\u001b[1;33m]\u001b[0m\u001b[1;33m.\u001b[0m\u001b[0mvalue_counts\u001b[0m\u001b[1;33m(\u001b[0m\u001b[1;33m)\u001b[0m\u001b[1;33m\u001b[0m\u001b[0m\n\u001b[0m",
      "\u001b[1;32mD:\\software\\Anaconda2\\lib\\site-packages\\pandas\\core\\frame.pyc\u001b[0m in \u001b[0;36m__getitem__\u001b[1;34m(self, key)\u001b[0m\n\u001b[0;32m   1967\u001b[0m             \u001b[1;32mreturn\u001b[0m \u001b[0mself\u001b[0m\u001b[1;33m.\u001b[0m\u001b[0m_getitem_multilevel\u001b[0m\u001b[1;33m(\u001b[0m\u001b[0mkey\u001b[0m\u001b[1;33m)\u001b[0m\u001b[1;33m\u001b[0m\u001b[0m\n\u001b[0;32m   1968\u001b[0m         \u001b[1;32melse\u001b[0m\u001b[1;33m:\u001b[0m\u001b[1;33m\u001b[0m\u001b[0m\n\u001b[1;32m-> 1969\u001b[1;33m             \u001b[1;32mreturn\u001b[0m \u001b[0mself\u001b[0m\u001b[1;33m.\u001b[0m\u001b[0m_getitem_column\u001b[0m\u001b[1;33m(\u001b[0m\u001b[0mkey\u001b[0m\u001b[1;33m)\u001b[0m\u001b[1;33m\u001b[0m\u001b[0m\n\u001b[0m\u001b[0;32m   1970\u001b[0m \u001b[1;33m\u001b[0m\u001b[0m\n\u001b[0;32m   1971\u001b[0m     \u001b[1;32mdef\u001b[0m \u001b[0m_getitem_column\u001b[0m\u001b[1;33m(\u001b[0m\u001b[0mself\u001b[0m\u001b[1;33m,\u001b[0m \u001b[0mkey\u001b[0m\u001b[1;33m)\u001b[0m\u001b[1;33m:\u001b[0m\u001b[1;33m\u001b[0m\u001b[0m\n",
      "\u001b[1;32mD:\\software\\Anaconda2\\lib\\site-packages\\pandas\\core\\frame.pyc\u001b[0m in \u001b[0;36m_getitem_column\u001b[1;34m(self, key)\u001b[0m\n\u001b[0;32m   1974\u001b[0m         \u001b[1;31m# get column\u001b[0m\u001b[1;33m\u001b[0m\u001b[1;33m\u001b[0m\u001b[0m\n\u001b[0;32m   1975\u001b[0m         \u001b[1;32mif\u001b[0m \u001b[0mself\u001b[0m\u001b[1;33m.\u001b[0m\u001b[0mcolumns\u001b[0m\u001b[1;33m.\u001b[0m\u001b[0mis_unique\u001b[0m\u001b[1;33m:\u001b[0m\u001b[1;33m\u001b[0m\u001b[0m\n\u001b[1;32m-> 1976\u001b[1;33m             \u001b[1;32mreturn\u001b[0m \u001b[0mself\u001b[0m\u001b[1;33m.\u001b[0m\u001b[0m_get_item_cache\u001b[0m\u001b[1;33m(\u001b[0m\u001b[0mkey\u001b[0m\u001b[1;33m)\u001b[0m\u001b[1;33m\u001b[0m\u001b[0m\n\u001b[0m\u001b[0;32m   1977\u001b[0m \u001b[1;33m\u001b[0m\u001b[0m\n\u001b[0;32m   1978\u001b[0m         \u001b[1;31m# duplicate columns & possible reduce dimensionality\u001b[0m\u001b[1;33m\u001b[0m\u001b[1;33m\u001b[0m\u001b[0m\n",
      "\u001b[1;32mD:\\software\\Anaconda2\\lib\\site-packages\\pandas\\core\\generic.pyc\u001b[0m in \u001b[0;36m_get_item_cache\u001b[1;34m(self, item)\u001b[0m\n\u001b[0;32m   1089\u001b[0m         \u001b[0mres\u001b[0m \u001b[1;33m=\u001b[0m \u001b[0mcache\u001b[0m\u001b[1;33m.\u001b[0m\u001b[0mget\u001b[0m\u001b[1;33m(\u001b[0m\u001b[0mitem\u001b[0m\u001b[1;33m)\u001b[0m\u001b[1;33m\u001b[0m\u001b[0m\n\u001b[0;32m   1090\u001b[0m         \u001b[1;32mif\u001b[0m \u001b[0mres\u001b[0m \u001b[1;32mis\u001b[0m \u001b[0mNone\u001b[0m\u001b[1;33m:\u001b[0m\u001b[1;33m\u001b[0m\u001b[0m\n\u001b[1;32m-> 1091\u001b[1;33m             \u001b[0mvalues\u001b[0m \u001b[1;33m=\u001b[0m \u001b[0mself\u001b[0m\u001b[1;33m.\u001b[0m\u001b[0m_data\u001b[0m\u001b[1;33m.\u001b[0m\u001b[0mget\u001b[0m\u001b[1;33m(\u001b[0m\u001b[0mitem\u001b[0m\u001b[1;33m)\u001b[0m\u001b[1;33m\u001b[0m\u001b[0m\n\u001b[0m\u001b[0;32m   1092\u001b[0m             \u001b[0mres\u001b[0m \u001b[1;33m=\u001b[0m \u001b[0mself\u001b[0m\u001b[1;33m.\u001b[0m\u001b[0m_box_item_values\u001b[0m\u001b[1;33m(\u001b[0m\u001b[0mitem\u001b[0m\u001b[1;33m,\u001b[0m \u001b[0mvalues\u001b[0m\u001b[1;33m)\u001b[0m\u001b[1;33m\u001b[0m\u001b[0m\n\u001b[0;32m   1093\u001b[0m             \u001b[0mcache\u001b[0m\u001b[1;33m[\u001b[0m\u001b[0mitem\u001b[0m\u001b[1;33m]\u001b[0m \u001b[1;33m=\u001b[0m \u001b[0mres\u001b[0m\u001b[1;33m\u001b[0m\u001b[0m\n",
      "\u001b[1;32mD:\\software\\Anaconda2\\lib\\site-packages\\pandas\\core\\internals.pyc\u001b[0m in \u001b[0;36mget\u001b[1;34m(self, item, fastpath)\u001b[0m\n\u001b[0;32m   3209\u001b[0m \u001b[1;33m\u001b[0m\u001b[0m\n\u001b[0;32m   3210\u001b[0m             \u001b[1;32mif\u001b[0m \u001b[1;32mnot\u001b[0m \u001b[0misnull\u001b[0m\u001b[1;33m(\u001b[0m\u001b[0mitem\u001b[0m\u001b[1;33m)\u001b[0m\u001b[1;33m:\u001b[0m\u001b[1;33m\u001b[0m\u001b[0m\n\u001b[1;32m-> 3211\u001b[1;33m                 \u001b[0mloc\u001b[0m \u001b[1;33m=\u001b[0m \u001b[0mself\u001b[0m\u001b[1;33m.\u001b[0m\u001b[0mitems\u001b[0m\u001b[1;33m.\u001b[0m\u001b[0mget_loc\u001b[0m\u001b[1;33m(\u001b[0m\u001b[0mitem\u001b[0m\u001b[1;33m)\u001b[0m\u001b[1;33m\u001b[0m\u001b[0m\n\u001b[0m\u001b[0;32m   3212\u001b[0m             \u001b[1;32melse\u001b[0m\u001b[1;33m:\u001b[0m\u001b[1;33m\u001b[0m\u001b[0m\n\u001b[0;32m   3213\u001b[0m                 \u001b[0mindexer\u001b[0m \u001b[1;33m=\u001b[0m \u001b[0mnp\u001b[0m\u001b[1;33m.\u001b[0m\u001b[0marange\u001b[0m\u001b[1;33m(\u001b[0m\u001b[0mlen\u001b[0m\u001b[1;33m(\u001b[0m\u001b[0mself\u001b[0m\u001b[1;33m.\u001b[0m\u001b[0mitems\u001b[0m\u001b[1;33m)\u001b[0m\u001b[1;33m)\u001b[0m\u001b[1;33m[\u001b[0m\u001b[0misnull\u001b[0m\u001b[1;33m(\u001b[0m\u001b[0mself\u001b[0m\u001b[1;33m.\u001b[0m\u001b[0mitems\u001b[0m\u001b[1;33m)\u001b[0m\u001b[1;33m]\u001b[0m\u001b[1;33m\u001b[0m\u001b[0m\n",
      "\u001b[1;32mD:\\software\\Anaconda2\\lib\\site-packages\\pandas\\core\\index.pyc\u001b[0m in \u001b[0;36mget_loc\u001b[1;34m(self, key, method, tolerance)\u001b[0m\n\u001b[0;32m   1757\u001b[0m                                  'backfill or nearest lookups')\n\u001b[0;32m   1758\u001b[0m             \u001b[0mkey\u001b[0m \u001b[1;33m=\u001b[0m \u001b[0m_values_from_object\u001b[0m\u001b[1;33m(\u001b[0m\u001b[0mkey\u001b[0m\u001b[1;33m)\u001b[0m\u001b[1;33m\u001b[0m\u001b[0m\n\u001b[1;32m-> 1759\u001b[1;33m             \u001b[1;32mreturn\u001b[0m \u001b[0mself\u001b[0m\u001b[1;33m.\u001b[0m\u001b[0m_engine\u001b[0m\u001b[1;33m.\u001b[0m\u001b[0mget_loc\u001b[0m\u001b[1;33m(\u001b[0m\u001b[0mkey\u001b[0m\u001b[1;33m)\u001b[0m\u001b[1;33m\u001b[0m\u001b[0m\n\u001b[0m\u001b[0;32m   1760\u001b[0m \u001b[1;33m\u001b[0m\u001b[0m\n\u001b[0;32m   1761\u001b[0m         indexer = self.get_indexer([key], method=method,\n",
      "\u001b[1;32mpandas\\index.pyx\u001b[0m in \u001b[0;36mpandas.index.IndexEngine.get_loc (pandas\\index.c:3979)\u001b[1;34m()\u001b[0m\n",
      "\u001b[1;32mpandas\\index.pyx\u001b[0m in \u001b[0;36mpandas.index.IndexEngine.get_loc (pandas\\index.c:3843)\u001b[1;34m()\u001b[0m\n",
      "\u001b[1;32mpandas\\hashtable.pyx\u001b[0m in \u001b[0;36mpandas.hashtable.PyObjectHashTable.get_item (pandas\\hashtable.c:12265)\u001b[1;34m()\u001b[0m\n",
      "\u001b[1;32mpandas\\hashtable.pyx\u001b[0m in \u001b[0;36mpandas.hashtable.PyObjectHashTable.get_item (pandas\\hashtable.c:12216)\u001b[1;34m()\u001b[0m\n",
      "\u001b[1;31mKeyError\u001b[0m: 'product_type'"
     ]
    }
   ],
   "source": [
    "test['product_type'].value_counts()"
   ]
  },
  {
   "cell_type": "code",
   "execution_count": 33,
   "metadata": {
    "collapsed": false
   },
   "outputs": [
    {
     "data": {
      "text/html": [
       "<div>\n",
       "<table border=\"1\" class=\"dataframe\">\n",
       "  <thead>\n",
       "    <tr style=\"text-align: right;\">\n",
       "      <th></th>\n",
       "      <th></th>\n",
       "      <th>product_type</th>\n",
       "      <th>city_id</th>\n",
       "      <th>domicile_province</th>\n",
       "      <th>domicile_city</th>\n",
       "      <th>resident_province</th>\n",
       "      <th>resident_city</th>\n",
       "      <th>identity_address_province</th>\n",
       "      <th>identity_address_city</th>\n",
       "      <th>apply_max_amount</th>\n",
       "      <th>long_repayment_term</th>\n",
       "      <th>...</th>\n",
       "      <th>sum_current_month_bill_amount</th>\n",
       "      <th>sum_overdue_sum</th>\n",
       "      <th>amount</th>\n",
       "      <th>organization_portion</th>\n",
       "      <th>is_overdue</th>\n",
       "      <th>max_renege_count_24</th>\n",
       "      <th>sum_overdue_180</th>\n",
       "      <th>channel_source</th>\n",
       "      <th>known_creditease</th>\n",
       "      <th>is_city_same</th>\n",
       "    </tr>\n",
       "    <tr>\n",
       "      <th>consumption_habits</th>\n",
       "      <th>label</th>\n",
       "      <th></th>\n",
       "      <th></th>\n",
       "      <th></th>\n",
       "      <th></th>\n",
       "      <th></th>\n",
       "      <th></th>\n",
       "      <th></th>\n",
       "      <th></th>\n",
       "      <th></th>\n",
       "      <th></th>\n",
       "      <th></th>\n",
       "      <th></th>\n",
       "      <th></th>\n",
       "      <th></th>\n",
       "      <th></th>\n",
       "      <th></th>\n",
       "      <th></th>\n",
       "      <th></th>\n",
       "      <th></th>\n",
       "      <th></th>\n",
       "      <th></th>\n",
       "    </tr>\n",
       "  </thead>\n",
       "  <tbody>\n",
       "    <tr>\n",
       "      <th rowspan=\"2\" valign=\"top\">-1</th>\n",
       "      <th>0</th>\n",
       "      <td>95490</td>\n",
       "      <td>95490</td>\n",
       "      <td>95490</td>\n",
       "      <td>95490</td>\n",
       "      <td>95490</td>\n",
       "      <td>95490</td>\n",
       "      <td>95490</td>\n",
       "      <td>95490</td>\n",
       "      <td>95490</td>\n",
       "      <td>95490</td>\n",
       "      <td>...</td>\n",
       "      <td>95490</td>\n",
       "      <td>95490</td>\n",
       "      <td>95490</td>\n",
       "      <td>95490</td>\n",
       "      <td>95490</td>\n",
       "      <td>95490</td>\n",
       "      <td>95490</td>\n",
       "      <td>95490</td>\n",
       "      <td>95490</td>\n",
       "      <td>95490</td>\n",
       "    </tr>\n",
       "    <tr>\n",
       "      <th>1</th>\n",
       "      <td>68993</td>\n",
       "      <td>68993</td>\n",
       "      <td>68993</td>\n",
       "      <td>68993</td>\n",
       "      <td>68993</td>\n",
       "      <td>68993</td>\n",
       "      <td>68993</td>\n",
       "      <td>68993</td>\n",
       "      <td>68993</td>\n",
       "      <td>68993</td>\n",
       "      <td>...</td>\n",
       "      <td>68993</td>\n",
       "      <td>68993</td>\n",
       "      <td>68993</td>\n",
       "      <td>68993</td>\n",
       "      <td>68993</td>\n",
       "      <td>68993</td>\n",
       "      <td>68993</td>\n",
       "      <td>68993</td>\n",
       "      <td>68993</td>\n",
       "      <td>68993</td>\n",
       "    </tr>\n",
       "    <tr>\n",
       "      <th rowspan=\"2\" valign=\"top\">0</th>\n",
       "      <th>0</th>\n",
       "      <td>25858</td>\n",
       "      <td>25858</td>\n",
       "      <td>25858</td>\n",
       "      <td>25858</td>\n",
       "      <td>25858</td>\n",
       "      <td>25858</td>\n",
       "      <td>25858</td>\n",
       "      <td>25858</td>\n",
       "      <td>25858</td>\n",
       "      <td>25858</td>\n",
       "      <td>...</td>\n",
       "      <td>25858</td>\n",
       "      <td>25858</td>\n",
       "      <td>25858</td>\n",
       "      <td>25858</td>\n",
       "      <td>25858</td>\n",
       "      <td>25858</td>\n",
       "      <td>25858</td>\n",
       "      <td>25858</td>\n",
       "      <td>25858</td>\n",
       "      <td>25858</td>\n",
       "    </tr>\n",
       "    <tr>\n",
       "      <th>1</th>\n",
       "      <td>56595</td>\n",
       "      <td>56595</td>\n",
       "      <td>56595</td>\n",
       "      <td>56595</td>\n",
       "      <td>56595</td>\n",
       "      <td>56595</td>\n",
       "      <td>56595</td>\n",
       "      <td>56595</td>\n",
       "      <td>56595</td>\n",
       "      <td>56595</td>\n",
       "      <td>...</td>\n",
       "      <td>56595</td>\n",
       "      <td>56595</td>\n",
       "      <td>56595</td>\n",
       "      <td>56595</td>\n",
       "      <td>56595</td>\n",
       "      <td>56595</td>\n",
       "      <td>56595</td>\n",
       "      <td>56595</td>\n",
       "      <td>56595</td>\n",
       "      <td>56595</td>\n",
       "    </tr>\n",
       "    <tr>\n",
       "      <th>1</th>\n",
       "      <th>0</th>\n",
       "      <td>20315</td>\n",
       "      <td>20315</td>\n",
       "      <td>20315</td>\n",
       "      <td>20315</td>\n",
       "      <td>20315</td>\n",
       "      <td>20315</td>\n",
       "      <td>20315</td>\n",
       "      <td>20315</td>\n",
       "      <td>20315</td>\n",
       "      <td>20315</td>\n",
       "      <td>...</td>\n",
       "      <td>20315</td>\n",
       "      <td>20315</td>\n",
       "      <td>20315</td>\n",
       "      <td>20315</td>\n",
       "      <td>20315</td>\n",
       "      <td>20315</td>\n",
       "      <td>20315</td>\n",
       "      <td>20315</td>\n",
       "      <td>20315</td>\n",
       "      <td>20315</td>\n",
       "    </tr>\n",
       "  </tbody>\n",
       "</table>\n",
       "<p>5 rows × 159 columns</p>\n",
       "</div>"
      ],
      "text/plain": [
       "                          product_type  city_id  domicile_province  \\\n",
       "consumption_habits label                                             \n",
       "-1                 0             95490    95490              95490   \n",
       "                   1             68993    68993              68993   \n",
       " 0                 0             25858    25858              25858   \n",
       "                   1             56595    56595              56595   \n",
       " 1                 0             20315    20315              20315   \n",
       "\n",
       "                          domicile_city  resident_province  resident_city  \\\n",
       "consumption_habits label                                                    \n",
       "-1                 0              95490              95490          95490   \n",
       "                   1              68993              68993          68993   \n",
       " 0                 0              25858              25858          25858   \n",
       "                   1              56595              56595          56595   \n",
       " 1                 0              20315              20315          20315   \n",
       "\n",
       "                          identity_address_province  identity_address_city  \\\n",
       "consumption_habits label                                                     \n",
       "-1                 0                          95490                  95490   \n",
       "                   1                          68993                  68993   \n",
       " 0                 0                          25858                  25858   \n",
       "                   1                          56595                  56595   \n",
       " 1                 0                          20315                  20315   \n",
       "\n",
       "                          apply_max_amount  long_repayment_term      ...       \\\n",
       "consumption_habits label                                             ...        \n",
       "-1                 0                 95490                95490      ...        \n",
       "                   1                 68993                68993      ...        \n",
       " 0                 0                 25858                25858      ...        \n",
       "                   1                 56595                56595      ...        \n",
       " 1                 0                 20315                20315      ...        \n",
       "\n",
       "                          sum_current_month_bill_amount  sum_overdue_sum  \\\n",
       "consumption_habits label                                                   \n",
       "-1                 0                              95490            95490   \n",
       "                   1                              68993            68993   \n",
       " 0                 0                              25858            25858   \n",
       "                   1                              56595            56595   \n",
       " 1                 0                              20315            20315   \n",
       "\n",
       "                          amount  organization_portion  is_overdue  \\\n",
       "consumption_habits label                                             \n",
       "-1                 0       95490                 95490       95490   \n",
       "                   1       68993                 68993       68993   \n",
       " 0                 0       25858                 25858       25858   \n",
       "                   1       56595                 56595       56595   \n",
       " 1                 0       20315                 20315       20315   \n",
       "\n",
       "                          max_renege_count_24  sum_overdue_180  \\\n",
       "consumption_habits label                                         \n",
       "-1                 0                    95490            95490   \n",
       "                   1                    68993            68993   \n",
       " 0                 0                    25858            25858   \n",
       "                   1                    56595            56595   \n",
       " 1                 0                    20315            20315   \n",
       "\n",
       "                          channel_source  known_creditease  is_city_same  \n",
       "consumption_habits label                                                  \n",
       "-1                 0               95490             95490         95490  \n",
       "                   1               68993             68993         68993  \n",
       " 0                 0               25858             25858         25858  \n",
       "                   1               56595             56595         56595  \n",
       " 1                 0               20315             20315         20315  \n",
       "\n",
       "[5 rows x 159 columns]"
      ]
     },
     "execution_count": 33,
     "metadata": {},
     "output_type": "execute_result"
    }
   ],
   "source": [
    "train_df.head()"
   ]
  },
  {
   "cell_type": "code",
   "execution_count": 27,
   "metadata": {
    "collapsed": false
   },
   "outputs": [
    {
     "data": {
      "text/plain": [
       " 0    210342\n",
       " 1    199445\n",
       "-1     73028\n",
       "Name: risk_industry, dtype: int64"
      ]
     },
     "execution_count": 27,
     "metadata": {},
     "output_type": "execute_result"
    }
   ],
   "source": [
    "train['risk_industry'].value_counts()"
   ]
  },
  {
   "cell_type": "code",
   "execution_count": 21,
   "metadata": {
    "collapsed": false
   },
   "outputs": [
    {
     "data": {
      "text/html": [
       "<div>\n",
       "<table border=\"1\" class=\"dataframe\">\n",
       "  <thead>\n",
       "    <tr style=\"text-align: right;\">\n",
       "      <th></th>\n",
       "      <th>default_times</th>\n",
       "      <th>month_income</th>\n",
       "      <th>n1</th>\n",
       "      <th>month_payment</th>\n",
       "      <th>mean</th>\n",
       "      <th>n2</th>\n",
       "      <th>contact_num</th>\n",
       "      <th>consumption_habits</th>\n",
       "      <th>product_type</th>\n",
       "      <th>pledge_num</th>\n",
       "      <th>latest_month_income</th>\n",
       "      <th>nomal_card_num</th>\n",
       "      <th>accept_moth_repay</th>\n",
       "      <th>loan_max_num</th>\n",
       "      <th>max_loan_age</th>\n",
       "      <th>nomal_card_used_amount</th>\n",
       "      <th>fee_months</th>\n",
       "      <th>max_credit_card_age</th>\n",
       "      <th>applying_count</th>\n",
       "      <th>risk_industry</th>\n",
       "    </tr>\n",
       "  </thead>\n",
       "  <tbody>\n",
       "    <tr>\n",
       "      <th>0</th>\n",
       "      <td>2</td>\n",
       "      <td>7462.57</td>\n",
       "      <td>7459.93</td>\n",
       "      <td>190.96</td>\n",
       "      <td>3731.285000</td>\n",
       "      <td>7459.93</td>\n",
       "      <td>6</td>\n",
       "      <td>1</td>\n",
       "      <td>1</td>\n",
       "      <td>-1</td>\n",
       "      <td>7467.85</td>\n",
       "      <td>3</td>\n",
       "      <td>5000</td>\n",
       "      <td>-1</td>\n",
       "      <td>-1</td>\n",
       "      <td>10430</td>\n",
       "      <td>9</td>\n",
       "      <td>95</td>\n",
       "      <td>1</td>\n",
       "      <td>1</td>\n",
       "    </tr>\n",
       "    <tr>\n",
       "      <th>1</th>\n",
       "      <td>0</td>\n",
       "      <td>3867.03</td>\n",
       "      <td>3867.03</td>\n",
       "      <td>0.00</td>\n",
       "      <td>1933.515000</td>\n",
       "      <td>3867.03</td>\n",
       "      <td>6</td>\n",
       "      <td>1</td>\n",
       "      <td>1</td>\n",
       "      <td>-1</td>\n",
       "      <td>0.00</td>\n",
       "      <td>2</td>\n",
       "      <td>3000</td>\n",
       "      <td>-1</td>\n",
       "      <td>-1</td>\n",
       "      <td>17482</td>\n",
       "      <td>0</td>\n",
       "      <td>4</td>\n",
       "      <td>1</td>\n",
       "      <td>1</td>\n",
       "    </tr>\n",
       "    <tr>\n",
       "      <th>2</th>\n",
       "      <td>-1</td>\n",
       "      <td>4714.18</td>\n",
       "      <td>0.00</td>\n",
       "      <td>0.00</td>\n",
       "      <td>2357.091667</td>\n",
       "      <td>4535.55</td>\n",
       "      <td>6</td>\n",
       "      <td>1</td>\n",
       "      <td>3</td>\n",
       "      <td>-1</td>\n",
       "      <td>4828.00</td>\n",
       "      <td>2</td>\n",
       "      <td>1000</td>\n",
       "      <td>24</td>\n",
       "      <td>24</td>\n",
       "      <td>40769</td>\n",
       "      <td>0</td>\n",
       "      <td>20</td>\n",
       "      <td>1</td>\n",
       "      <td>0</td>\n",
       "    </tr>\n",
       "    <tr>\n",
       "      <th>3</th>\n",
       "      <td>-1</td>\n",
       "      <td>4233.56</td>\n",
       "      <td>3459.90</td>\n",
       "      <td>0.00</td>\n",
       "      <td>2116.780000</td>\n",
       "      <td>4115.46</td>\n",
       "      <td>6</td>\n",
       "      <td>1</td>\n",
       "      <td>1</td>\n",
       "      <td>-1</td>\n",
       "      <td>5125.32</td>\n",
       "      <td>1</td>\n",
       "      <td>3000</td>\n",
       "      <td>-1</td>\n",
       "      <td>-1</td>\n",
       "      <td>0</td>\n",
       "      <td>0</td>\n",
       "      <td>15</td>\n",
       "      <td>1</td>\n",
       "      <td>1</td>\n",
       "    </tr>\n",
       "    <tr>\n",
       "      <th>4</th>\n",
       "      <td>2</td>\n",
       "      <td>1885.33</td>\n",
       "      <td>0.00</td>\n",
       "      <td>0.00</td>\n",
       "      <td>942.666667</td>\n",
       "      <td>3186.00</td>\n",
       "      <td>6</td>\n",
       "      <td>1</td>\n",
       "      <td>1</td>\n",
       "      <td>-1</td>\n",
       "      <td>0.00</td>\n",
       "      <td>2</td>\n",
       "      <td>2000</td>\n",
       "      <td>54</td>\n",
       "      <td>54</td>\n",
       "      <td>27033</td>\n",
       "      <td>0</td>\n",
       "      <td>80</td>\n",
       "      <td>1</td>\n",
       "      <td>1</td>\n",
       "    </tr>\n",
       "  </tbody>\n",
       "</table>\n",
       "</div>"
      ],
      "text/plain": [
       "   default_times  month_income       n1  month_payment         mean       n2  \\\n",
       "0              2       7462.57  7459.93         190.96  3731.285000  7459.93   \n",
       "1              0       3867.03  3867.03           0.00  1933.515000  3867.03   \n",
       "2             -1       4714.18     0.00           0.00  2357.091667  4535.55   \n",
       "3             -1       4233.56  3459.90           0.00  2116.780000  4115.46   \n",
       "4              2       1885.33     0.00           0.00   942.666667  3186.00   \n",
       "\n",
       "   contact_num  consumption_habits  product_type  pledge_num  \\\n",
       "0            6                   1             1          -1   \n",
       "1            6                   1             1          -1   \n",
       "2            6                   1             3          -1   \n",
       "3            6                   1             1          -1   \n",
       "4            6                   1             1          -1   \n",
       "\n",
       "   latest_month_income  nomal_card_num  accept_moth_repay  loan_max_num  \\\n",
       "0              7467.85               3               5000            -1   \n",
       "1                 0.00               2               3000            -1   \n",
       "2              4828.00               2               1000            24   \n",
       "3              5125.32               1               3000            -1   \n",
       "4                 0.00               2               2000            54   \n",
       "\n",
       "   max_loan_age  nomal_card_used_amount  fee_months  max_credit_card_age  \\\n",
       "0            -1                   10430           9                   95   \n",
       "1            -1                   17482           0                    4   \n",
       "2            24                   40769           0                   20   \n",
       "3            -1                       0           0                   15   \n",
       "4            54                   27033           0                   80   \n",
       "\n",
       "   applying_count  risk_industry  \n",
       "0               1              1  \n",
       "1               1              1  \n",
       "2               1              0  \n",
       "3               1              1  \n",
       "4               1              1  "
      ]
     },
     "execution_count": 21,
     "metadata": {},
     "output_type": "execute_result"
    }
   ],
   "source": [
    "train[features].head()  "
   ]
  },
  {
   "cell_type": "code",
   "execution_count": 16,
   "metadata": {
    "collapsed": false
   },
   "outputs": [
    {
     "name": "stdout",
     "output_type": "stream",
     "text": [
      "False\n"
     ]
    }
   ],
   "source": [
    "from sklearn import preprocessing\n",
    "scaler = preprocessing.MinMaxScaler()\n",
    "features=selected_features###list(set(set(train.columns.tolist())-set(['label'])))#,'is_dh'\n",
    "print 'label' in features\n",
    "train_x=scaler.fit_transform(train[features].values)  \n",
    "train_y=train['label'].values\n",
    "\n",
    "# val_x=scaler.transform(validate_sub[features].values)\n",
    "# val_y=validate_sub['label'].values\n",
    "\n",
    "# test_x=scaler.transform(test[features].values)\n",
    "# test_y=test['label'].values"
   ]
  },
  {
   "cell_type": "code",
   "execution_count": 17,
   "metadata": {
    "collapsed": false
   },
   "outputs": [],
   "source": [
    "val_x=scaler.transform(validate[features].values)\n",
    "val_y=validate['label'].values"
   ]
  },
  {
   "cell_type": "code",
   "execution_count": 18,
   "metadata": {
    "collapsed": true
   },
   "outputs": [],
   "source": [
    "test_x=scaler.transform(test[features].values)\n",
    "test_y=test['label'].values"
   ]
  },
  {
   "cell_type": "code",
   "execution_count": 16,
   "metadata": {
    "collapsed": true
   },
   "outputs": [],
   "source": [
    "dh_validate_overdue_x=scaler.transform(dh_validate_overdue[features].values)\n",
    "dh_validate_overdue_y=dh_validate_overdue['label'].values"
   ]
  },
  {
   "cell_type": "code",
   "execution_count": 17,
   "metadata": {
    "collapsed": true
   },
   "outputs": [],
   "source": [
    "dh_test_overdue_x=scaler.transform(dh_test_overdue[features].values)\n",
    "dh_test_overdue_y=dh_test_overdue['label'].values"
   ]
  },
  {
   "cell_type": "code",
   "execution_count": 19,
   "metadata": {
    "collapsed": false
   },
   "outputs": [],
   "source": [
    "from sklearn.externals import joblib\n",
    "lr = LogisticRegression(penalty='l2',C=10.0,class_weight='balanced',random_state=1024,solver='sag')\n",
    "lr.fit(train_x,train_y)\n",
    "joblib.dump(lr,xinshen_dir+'lr_model_selected_features.pkl') \n",
    "lr = joblib.load(xinshen_dir+'lr_model_selected_features.pkl') "
   ]
  },
  {
   "cell_type": "code",
   "execution_count": 20,
   "metadata": {
    "collapsed": false
   },
   "outputs": [
    {
     "name": "stdout",
     "output_type": "stream",
     "text": [
      "val set auc is=0.893247029387\n"
     ]
    }
   ],
   "source": [
    "val_probs=lr.predict_proba(val_x)\n",
    "val_auc=roc_auc_score(val_y,val_probs[:,1])\n",
    "print 'val set auc is=%s'%(val_auc)###原始的auc:0.931777552037\n",
    "# print pd.DataFrame({\"columns\":list(train[features].columns), \"coef\":list(lr.coef_.T)})\n",
    "# print \"***************************\"\n",
    "# test_probs=clf.fit(train_x,train_y).predict_proba(test_x)\n",
    "# test_auc=roc_auc_score(test_y,test_probs[:,1])\n",
    "# print 'test set auc is=%s'%(test_auc)"
   ]
  },
  {
   "cell_type": "code",
   "execution_count": 15,
   "metadata": {
    "collapsed": false
   },
   "outputs": [
    {
     "name": "stdout",
     "output_type": "stream",
     "text": [
      "test set auc is=0.967835776337\n",
      "                    coef                        columns\n",
      "0      [-0.593722337496]                    query_times\n",
      "1     [-0.0512668665896]                   is_city_same\n",
      "2      [-0.165487525035]                        city_id\n",
      "3      [-0.693941663147]                 overdue_num_c2\n",
      "4       [-1.06389573416]                 overdue_num_c1\n",
      "5      [-0.131350472358]                 overdue_num_c6\n",
      "6        [-0.7063889903]                 overdue_num_c5\n",
      "7       [-7.34869812886]                   refuse_times\n",
      "8                  [0.0]                  borrower_type\n",
      "9     [-0.0330612271308]                house_condition\n",
      "10      [0.590990182229]               known_creditease\n",
      "11       [0.18606794976]  sum_current_month_bill_amount\n",
      "12      [0.239380066911]           organization_portion\n",
      "13       [1.82716420716]                  risk_industry\n",
      "14        [3.1851209454]                   loan_max_num\n",
      "15      [0.294912799829]                 channel_source\n",
      "16      [0.524665118556]        overdue_loan_num90_days\n",
      "17     [-0.189487202052]                 overdue_num_c3\n",
      "18       [2.33883254378]                     fee_months\n",
      "19       [-2.0601487575]                     loan_count\n",
      "20    [-0.0284031269614]            customer_ident_type\n",
      "21      [-1.64240309967]                    blocked_num\n",
      "22      [0.670615088275]      outstanding_loan_contract\n",
      "23     [-0.612065026069]                 overdue_num_l6\n",
      "24      [-1.96422432974]                 overdue_num_l4\n",
      "25     [0.0391468747893]                 overdue_num_l5\n",
      "26     [-0.739565669488]                 overdue_num_l2\n",
      "27      [0.438253718527]                 overdue_num_l3\n",
      "28      [-3.37947315481]                 overdue_num_l1\n",
      "29      [-2.23261266512]            total_overdue_num_c\n",
      "..                   ...                            ...\n",
      "130  [0.000605890878264]                      month_pay\n",
      "131      [24.0255596661]                   month_income\n",
      "132    [0.0815357414321]                        has_car\n",
      "133     [0.670573314533]                max_loan_amount\n",
      "134    [-0.617039962248]               blocked_card_num\n",
      "135    [-0.268816906641]                credit_card_num\n",
      "136     [-1.25239894547]          last_fund_payment_mon\n",
      "137    [-0.112163431126]            fund_payment_period\n",
      "138     [-1.87656288358]                    break_times\n",
      "139    [0.0231830140307]                house_city_real\n",
      "140      [1.22144718033]                sum_overdue_sum\n",
      "141     [0.728615170296]            credit_card_max_num\n",
      "142     [-4.44105303038]          total_overdue_count_l\n",
      "143     [0.235277610193]                     fam_stable\n",
      "144    [0.0741233346622]               has_credit_event\n",
      "145      [1.45549233282]              bad_dept_card_num\n",
      "146     [-7.17099094146]                   credit_grade\n",
      "147      [3.37247158862]                 nomal_card_num\n",
      "148     [-2.47330586174]             apply_reject_count\n",
      "149     [0.658409634419]                   job_position\n",
      "150      [5.52437949419]                   product_type\n",
      "151     [0.652024399753]                            age\n",
      "152     [-41.8615402316]         max_total_overdue_days\n",
      "153      [5.49078994967]                     pledge_num\n",
      "154      [16.0984802323]                             n1\n",
      "155      [6.77341369516]                             n2\n",
      "156      [1.33457093662]                             n3\n",
      "157     [-4.37905884845]                             n4\n",
      "158     [-8.18783509983]                             n5\n",
      "159     [0.173210796319]            corp_regist_capital\n",
      "\n",
      "[160 rows x 2 columns]\n"
     ]
    }
   ],
   "source": [
    "test_probs=lr.predict_proba(test_x)\n",
    "test_auc=roc_auc_score(test_y,test_probs[:,1])\n",
    "print 'test set auc is=%s'%(test_auc)##原始的auc:0.967835776337\n",
    "train_features_df=pd.DataFrame({\"columns\":list(train[features].columns), \"coef\":list(lr.coef_.T)})\n",
    "train_features_df.to_csv(xinshen_dir+\"train_features_imp_5_11.csv\",index=False)\n",
    "print train_features_df"
   ]
  },
  {
   "cell_type": "code",
   "execution_count": null,
   "metadata": {
    "collapsed": false
   },
   "outputs": [],
   "source": [
    "#贷后相关信息的统计\n",
    "val_probs_list=val_probs[:,1].tolist()\n",
    "test_probs_list=test_probs[:,1].tolist()\n",
    "val_auc_df=DataFrame({'label':validate['label'].tolist(),'apply_id':validate['apply_id'].tolist(),'auc':val_probs_list,'is_dh':validate['is_dh'].tolist()})"
   ]
  },
  {
   "cell_type": "code",
   "execution_count": null,
   "metadata": {
    "collapsed": false
   },
   "outputs": [],
   "source": [
    "test_auc_df=DataFrame({'label':test['label'].tolist(),'apply_id':test['apply_id'].tolist(),'auc':test_probs_list,'is_dh':test['is_dh'].tolist()})\n",
    "test_auc_df.head()"
   ]
  },
  {
   "cell_type": "code",
   "execution_count": 29,
   "metadata": {
    "collapsed": false
   },
   "outputs": [
    {
     "name": "stdout",
     "output_type": "stream",
     "text": [
      "128426 128425\n",
      "67688 67681\n"
     ]
    }
   ],
   "source": [
    "dh_validate_auc_df=pd.merge(val_auc_df,dh_validate_ids,how='inner',on='apply_id')\n",
    "dh_test_auc_df=pd.merge(test_auc_df,dh_test_ids,how='inner',on='apply_id')\n",
    "print len(dh_validate_auc_df),len(dh_validate_ids)\n",
    "print len(dh_test_auc_df),len(dh_test_ids)"
   ]
  },
  {
   "cell_type": "code",
   "execution_count": 30,
   "metadata": {
    "collapsed": false
   },
   "outputs": [
    {
     "data": {
      "text/html": [
       "<div>\n",
       "<table border=\"1\" class=\"dataframe\">\n",
       "  <thead>\n",
       "    <tr style=\"text-align: right;\">\n",
       "      <th></th>\n",
       "      <th>apply_id</th>\n",
       "      <th>auc</th>\n",
       "      <th>label</th>\n",
       "    </tr>\n",
       "  </thead>\n",
       "  <tbody>\n",
       "    <tr>\n",
       "      <th>0</th>\n",
       "      <td>5580845</td>\n",
       "      <td>0.983233</td>\n",
       "      <td>1</td>\n",
       "    </tr>\n",
       "    <tr>\n",
       "      <th>1</th>\n",
       "      <td>5580989</td>\n",
       "      <td>0.985032</td>\n",
       "      <td>1</td>\n",
       "    </tr>\n",
       "    <tr>\n",
       "      <th>2</th>\n",
       "      <td>5587308</td>\n",
       "      <td>0.975511</td>\n",
       "      <td>1</td>\n",
       "    </tr>\n",
       "    <tr>\n",
       "      <th>3</th>\n",
       "      <td>5594189</td>\n",
       "      <td>0.972975</td>\n",
       "      <td>1</td>\n",
       "    </tr>\n",
       "    <tr>\n",
       "      <th>4</th>\n",
       "      <td>5594844</td>\n",
       "      <td>0.964305</td>\n",
       "      <td>1</td>\n",
       "    </tr>\n",
       "  </tbody>\n",
       "</table>\n",
       "</div>"
      ],
      "text/plain": [
       "   apply_id       auc  label\n",
       "0   5580845  0.983233      1\n",
       "1   5580989  0.985032      1\n",
       "2   5587308  0.975511      1\n",
       "3   5594189  0.972975      1\n",
       "4   5594844  0.964305      1"
      ]
     },
     "execution_count": 30,
     "metadata": {},
     "output_type": "execute_result"
    }
   ],
   "source": [
    "dh_validate_auc_df.head()"
   ]
  },
  {
   "cell_type": "code",
   "execution_count": 48,
   "metadata": {
    "collapsed": false
   },
   "outputs": [
    {
     "data": {
      "text/html": [
       "<div>\n",
       "<table border=\"1\" class=\"dataframe\">\n",
       "  <thead>\n",
       "    <tr style=\"text-align: right;\">\n",
       "      <th></th>\n",
       "      <th>apply_id</th>\n",
       "      <th>auc</th>\n",
       "      <th>is_dh</th>\n",
       "      <th>label</th>\n",
       "    </tr>\n",
       "  </thead>\n",
       "  <tbody>\n",
       "    <tr>\n",
       "      <th>0</th>\n",
       "      <td>5580845</td>\n",
       "      <td>0.983233</td>\n",
       "      <td>1</td>\n",
       "      <td>1</td>\n",
       "    </tr>\n",
       "    <tr>\n",
       "      <th>1</th>\n",
       "      <td>5580989</td>\n",
       "      <td>0.985032</td>\n",
       "      <td>1</td>\n",
       "      <td>1</td>\n",
       "    </tr>\n",
       "    <tr>\n",
       "      <th>2</th>\n",
       "      <td>5587308</td>\n",
       "      <td>0.975511</td>\n",
       "      <td>1</td>\n",
       "      <td>1</td>\n",
       "    </tr>\n",
       "    <tr>\n",
       "      <th>3</th>\n",
       "      <td>5587982</td>\n",
       "      <td>0.000002</td>\n",
       "      <td>0</td>\n",
       "      <td>0</td>\n",
       "    </tr>\n",
       "    <tr>\n",
       "      <th>4</th>\n",
       "      <td>5594189</td>\n",
       "      <td>0.972975</td>\n",
       "      <td>1</td>\n",
       "      <td>1</td>\n",
       "    </tr>\n",
       "  </tbody>\n",
       "</table>\n",
       "</div>"
      ],
      "text/plain": [
       "   apply_id       auc  is_dh  label\n",
       "0   5580845  0.983233      1      1\n",
       "1   5580989  0.985032      1      1\n",
       "2   5587308  0.975511      1      1\n",
       "3   5587982  0.000002      0      0\n",
       "4   5594189  0.972975      1      1"
      ]
     },
     "execution_count": 48,
     "metadata": {},
     "output_type": "execute_result"
    }
   ],
   "source": [
    "val_auc_df.head()"
   ]
  },
  {
   "cell_type": "code",
   "execution_count": 50,
   "metadata": {
    "collapsed": false
   },
   "outputs": [
    {
     "name": "stdout",
     "output_type": "stream",
     "text": [
      "0.950364703789\n"
     ]
    }
   ],
   "source": [
    "ndh_validate_auc_matrix=val_auc_df[val_auc_df['is_dh']==0].values\n",
    "total_cnt=0\n",
    "for i in range(len(ndh_validate_auc_matrix)):\n",
    "#     if ndh_validate_auc_matrix[i][1]>=0.5 and ndh_validate_auc_matrix[i][2]==1:\n",
    "#         cnt=1\n",
    "    if ndh_validate_auc_matrix[i][1]<0.5 and ndh_validate_auc_matrix[i][2]==0 :\n",
    "        cnt=1\n",
    "    else:\n",
    "        cnt=0\n",
    "    total_cnt+=cnt\n",
    "print total_cnt*1.0/len(val_auc_df[val_auc_df['label']==0]) "
   ]
  },
  {
   "cell_type": "code",
   "execution_count": 32,
   "metadata": {
    "collapsed": false
   },
   "outputs": [
    {
     "name": "stdout",
     "output_type": "stream",
     "text": [
      "0.0111111111111\n"
     ]
    }
   ],
   "source": [
    "dh_validate_auc_matrix=dh_validate_auc_df.values\n",
    "total_cnt=0\n",
    "for i in range(len(dh_validate_auc_matrix)):\n",
    "#     if dh_validate_auc_matrix[i][1]>=0.5 and dh_validate_auc_matrix[i][2]==1:\n",
    "#         cnt=1\n",
    "    if dh_validate_auc_matrix[i][1]<0.5 and dh_validate_auc_matrix[i][2]==0 :\n",
    "        cnt=1\n",
    "    else:\n",
    "        cnt=0\n",
    "    total_cnt+=cnt\n",
    "print total_cnt*1.0/len(dh_validate_auc_df[dh_validate_auc_df['label']==0]) "
   ]
  },
  {
   "cell_type": "code",
   "execution_count": 42,
   "metadata": {
    "collapsed": false
   },
   "outputs": [
    {
     "data": {
      "text/html": [
       "<div>\n",
       "<table border=\"1\" class=\"dataframe\">\n",
       "  <thead>\n",
       "    <tr style=\"text-align: right;\">\n",
       "      <th></th>\n",
       "      <th>label</th>\n",
       "      <th>time</th>\n",
       "      <th>apply_id</th>\n",
       "      <th>bs_apply_id</th>\n",
       "      <th>transport_id</th>\n",
       "      <th>mortgagor_id</th>\n",
       "      <th>product_type</th>\n",
       "      <th>city_id</th>\n",
       "      <th>domicile_province</th>\n",
       "      <th>domicile_city</th>\n",
       "      <th>...</th>\n",
       "      <th>sum_current_month_bill_amount</th>\n",
       "      <th>sum_overdue_sum</th>\n",
       "      <th>amount</th>\n",
       "      <th>organization_portion</th>\n",
       "      <th>is_overdue</th>\n",
       "      <th>max_renege_count_24</th>\n",
       "      <th>sum_overdue_180</th>\n",
       "      <th>channel_source</th>\n",
       "      <th>known_creditease</th>\n",
       "      <th>is_city_same</th>\n",
       "    </tr>\n",
       "  </thead>\n",
       "  <tbody>\n",
       "    <tr>\n",
       "      <th>0</th>\n",
       "      <td>1</td>\n",
       "      <td>2016-01-04 16:20:40</td>\n",
       "      <td>5580845</td>\n",
       "      <td>5580845</td>\n",
       "      <td>14720289</td>\n",
       "      <td>14718798</td>\n",
       "      <td>1</td>\n",
       "      <td>330300</td>\n",
       "      <td>330304</td>\n",
       "      <td>330300</td>\n",
       "      <td>...</td>\n",
       "      <td>-1</td>\n",
       "      <td>-1</td>\n",
       "      <td>-1</td>\n",
       "      <td>-1</td>\n",
       "      <td>1</td>\n",
       "      <td>0</td>\n",
       "      <td>0</td>\n",
       "      <td>-1</td>\n",
       "      <td>6</td>\n",
       "      <td>1</td>\n",
       "    </tr>\n",
       "    <tr>\n",
       "      <th>1</th>\n",
       "      <td>1</td>\n",
       "      <td>2016-01-06 16:22:57</td>\n",
       "      <td>5580989</td>\n",
       "      <td>5580989</td>\n",
       "      <td>14731770</td>\n",
       "      <td>14730279</td>\n",
       "      <td>1</td>\n",
       "      <td>130300</td>\n",
       "      <td>130302</td>\n",
       "      <td>130300</td>\n",
       "      <td>...</td>\n",
       "      <td>-1</td>\n",
       "      <td>-1</td>\n",
       "      <td>-1</td>\n",
       "      <td>-1</td>\n",
       "      <td>1</td>\n",
       "      <td>0</td>\n",
       "      <td>0</td>\n",
       "      <td>-1</td>\n",
       "      <td>3</td>\n",
       "      <td>1</td>\n",
       "    </tr>\n",
       "    <tr>\n",
       "      <th>2</th>\n",
       "      <td>1</td>\n",
       "      <td>2016-01-05 14:48:01</td>\n",
       "      <td>5587308</td>\n",
       "      <td>5587308</td>\n",
       "      <td>14724580</td>\n",
       "      <td>14723089</td>\n",
       "      <td>1</td>\n",
       "      <td>110100</td>\n",
       "      <td>-1</td>\n",
       "      <td>130600</td>\n",
       "      <td>...</td>\n",
       "      <td>-1</td>\n",
       "      <td>-1</td>\n",
       "      <td>-1</td>\n",
       "      <td>-1</td>\n",
       "      <td>0</td>\n",
       "      <td>0</td>\n",
       "      <td>0</td>\n",
       "      <td>-1</td>\n",
       "      <td>3</td>\n",
       "      <td>1</td>\n",
       "    </tr>\n",
       "    <tr>\n",
       "      <th>3</th>\n",
       "      <td>0</td>\n",
       "      <td>2016-01-04 12:22:10</td>\n",
       "      <td>5587982</td>\n",
       "      <td>5587982</td>\n",
       "      <td>14717931</td>\n",
       "      <td>14716440</td>\n",
       "      <td>1</td>\n",
       "      <td>210200</td>\n",
       "      <td>-1</td>\n",
       "      <td>210200</td>\n",
       "      <td>...</td>\n",
       "      <td>-1</td>\n",
       "      <td>-1</td>\n",
       "      <td>-1</td>\n",
       "      <td>-1</td>\n",
       "      <td>0</td>\n",
       "      <td>0</td>\n",
       "      <td>0</td>\n",
       "      <td>-1</td>\n",
       "      <td>6</td>\n",
       "      <td>1</td>\n",
       "    </tr>\n",
       "    <tr>\n",
       "      <th>4</th>\n",
       "      <td>1</td>\n",
       "      <td>2016-01-05 09:21:54</td>\n",
       "      <td>5594189</td>\n",
       "      <td>5594189</td>\n",
       "      <td>14721565</td>\n",
       "      <td>14720074</td>\n",
       "      <td>3</td>\n",
       "      <td>150400</td>\n",
       "      <td>152502</td>\n",
       "      <td>152500</td>\n",
       "      <td>...</td>\n",
       "      <td>-1</td>\n",
       "      <td>-1</td>\n",
       "      <td>-1</td>\n",
       "      <td>-1</td>\n",
       "      <td>0</td>\n",
       "      <td>0</td>\n",
       "      <td>0</td>\n",
       "      <td>-1</td>\n",
       "      <td>3</td>\n",
       "      <td>0</td>\n",
       "    </tr>\n",
       "  </tbody>\n",
       "</table>\n",
       "<p>5 rows × 166 columns</p>\n",
       "</div>"
      ],
      "text/plain": [
       "   label                 time  apply_id  bs_apply_id  transport_id  \\\n",
       "0      1  2016-01-04 16:20:40   5580845      5580845      14720289   \n",
       "1      1  2016-01-06 16:22:57   5580989      5580989      14731770   \n",
       "2      1  2016-01-05 14:48:01   5587308      5587308      14724580   \n",
       "3      0  2016-01-04 12:22:10   5587982      5587982      14717931   \n",
       "4      1  2016-01-05 09:21:54   5594189      5594189      14721565   \n",
       "\n",
       "   mortgagor_id  product_type  city_id  domicile_province  domicile_city  \\\n",
       "0      14718798             1   330300             330304         330300   \n",
       "1      14730279             1   130300             130302         130300   \n",
       "2      14723089             1   110100                 -1         130600   \n",
       "3      14716440             1   210200                 -1         210200   \n",
       "4      14720074             3   150400             152502         152500   \n",
       "\n",
       "       ...       sum_current_month_bill_amount  sum_overdue_sum  amount  \\\n",
       "0      ...                                  -1               -1      -1   \n",
       "1      ...                                  -1               -1      -1   \n",
       "2      ...                                  -1               -1      -1   \n",
       "3      ...                                  -1               -1      -1   \n",
       "4      ...                                  -1               -1      -1   \n",
       "\n",
       "   organization_portion  is_overdue  max_renege_count_24  sum_overdue_180  \\\n",
       "0                    -1           1                    0                0   \n",
       "1                    -1           1                    0                0   \n",
       "2                    -1           0                    0                0   \n",
       "3                    -1           0                    0                0   \n",
       "4                    -1           0                    0                0   \n",
       "\n",
       "   channel_source  known_creditease  is_city_same  \n",
       "0              -1                 6             1  \n",
       "1              -1                 3             1  \n",
       "2              -1                 3             1  \n",
       "3              -1                 6             1  \n",
       "4              -1                 3             0  \n",
       "\n",
       "[5 rows x 166 columns]"
      ]
     },
     "execution_count": 42,
     "metadata": {},
     "output_type": "execute_result"
    }
   ],
   "source": [
    "validate.head()"
   ]
  },
  {
   "cell_type": "code",
   "execution_count": 40,
   "metadata": {
    "collapsed": false
   },
   "outputs": [
    {
     "data": {
      "text/html": [
       "<div>\n",
       "<table border=\"1\" class=\"dataframe\">\n",
       "  <thead>\n",
       "    <tr style=\"text-align: right;\">\n",
       "      <th></th>\n",
       "      <th>apply_id</th>\n",
       "      <th>auc</th>\n",
       "      <th>label</th>\n",
       "    </tr>\n",
       "  </thead>\n",
       "  <tbody>\n",
       "    <tr>\n",
       "      <th>0</th>\n",
       "      <td>5580845</td>\n",
       "      <td>0.983233</td>\n",
       "      <td>1</td>\n",
       "    </tr>\n",
       "    <tr>\n",
       "      <th>1</th>\n",
       "      <td>5580989</td>\n",
       "      <td>0.985032</td>\n",
       "      <td>1</td>\n",
       "    </tr>\n",
       "    <tr>\n",
       "      <th>2</th>\n",
       "      <td>5587308</td>\n",
       "      <td>0.975511</td>\n",
       "      <td>1</td>\n",
       "    </tr>\n",
       "    <tr>\n",
       "      <th>3</th>\n",
       "      <td>5587982</td>\n",
       "      <td>0.000002</td>\n",
       "      <td>0</td>\n",
       "    </tr>\n",
       "    <tr>\n",
       "      <th>4</th>\n",
       "      <td>5594189</td>\n",
       "      <td>0.972975</td>\n",
       "      <td>1</td>\n",
       "    </tr>\n",
       "  </tbody>\n",
       "</table>\n",
       "</div>"
      ],
      "text/plain": [
       "   apply_id       auc  label\n",
       "0   5580845  0.983233      1\n",
       "1   5580989  0.985032      1\n",
       "2   5587308  0.975511      1\n",
       "3   5587982  0.000002      0\n",
       "4   5594189  0.972975      1"
      ]
     },
     "execution_count": 40,
     "metadata": {},
     "output_type": "execute_result"
    }
   ],
   "source": [
    "val_auc_df.head()"
   ]
  },
  {
   "cell_type": "code",
   "execution_count": 41,
   "metadata": {
    "collapsed": false
   },
   "outputs": [
    {
     "name": "stdout",
     "output_type": "stream",
     "text": [
      "0.950916207081\n"
     ]
    }
   ],
   "source": [
    "val_auc_df_matrix=val_auc_df.values\n",
    "total_cnt=0\n",
    "for i in range(len(val_auc_df_matrix)):\n",
    "#     if dh_validate_auc_matrix[i][1]>=0.5 and dh_validate_auc_matrix[i][2]==1:\n",
    "#         cnt=1\n",
    "    if val_auc_df_matrix[i][1]<0.5 and val_auc_df_matrix[i][2]==0 :\n",
    "        cnt=1\n",
    "    else:\n",
    "        cnt=0\n",
    "    total_cnt+=cnt\n",
    "print total_cnt*1.0/len(val_auc_df[val_auc_df['label']==0]) "
   ]
  },
  {
   "cell_type": "markdown",
   "metadata": {},
   "source": [
    "# bad case分析"
   ]
  },
  {
   "cell_type": "code",
   "execution_count": 33,
   "metadata": {
    "collapsed": false
   },
   "outputs": [
    {
     "data": {
      "text/html": [
       "<div>\n",
       "<table border=\"1\" class=\"dataframe\">\n",
       "  <thead>\n",
       "    <tr style=\"text-align: right;\">\n",
       "      <th></th>\n",
       "      <th>apply_id</th>\n",
       "      <th>auc</th>\n",
       "      <th>label</th>\n",
       "    </tr>\n",
       "  </thead>\n",
       "  <tbody>\n",
       "    <tr>\n",
       "      <th>0</th>\n",
       "      <td>5580845</td>\n",
       "      <td>0.983233</td>\n",
       "      <td>1</td>\n",
       "    </tr>\n",
       "    <tr>\n",
       "      <th>1</th>\n",
       "      <td>5580989</td>\n",
       "      <td>0.985032</td>\n",
       "      <td>1</td>\n",
       "    </tr>\n",
       "    <tr>\n",
       "      <th>2</th>\n",
       "      <td>5587308</td>\n",
       "      <td>0.975511</td>\n",
       "      <td>1</td>\n",
       "    </tr>\n",
       "    <tr>\n",
       "      <th>3</th>\n",
       "      <td>5594189</td>\n",
       "      <td>0.972975</td>\n",
       "      <td>1</td>\n",
       "    </tr>\n",
       "    <tr>\n",
       "      <th>4</th>\n",
       "      <td>5594844</td>\n",
       "      <td>0.964305</td>\n",
       "      <td>1</td>\n",
       "    </tr>\n",
       "  </tbody>\n",
       "</table>\n",
       "</div>"
      ],
      "text/plain": [
       "   apply_id       auc  label\n",
       "0   5580845  0.983233      1\n",
       "1   5580989  0.985032      1\n",
       "2   5587308  0.975511      1\n",
       "3   5594189  0.972975      1\n",
       "4   5594844  0.964305      1"
      ]
     },
     "execution_count": 33,
     "metadata": {},
     "output_type": "execute_result"
    }
   ],
   "source": [
    "dh_validate_auc_df.head()"
   ]
  },
  {
   "cell_type": "code",
   "execution_count": 38,
   "metadata": {
    "collapsed": false
   },
   "outputs": [
    {
     "name": "stderr",
     "output_type": "stream",
     "text": [
      "D:\\software\\Anaconda2\\lib\\site-packages\\ipykernel\\__main__.py:3: SettingWithCopyWarning: \n",
      "A value is trying to be set on a copy of a slice from a DataFrame\n",
      "\n",
      "See the caveats in the documentation: http://pandas.pydata.org/pandas-docs/stable/indexing.html#indexing-view-versus-copy\n",
      "  app.launch_new_instance()\n"
     ]
    }
   ],
   "source": [
    "all_dh_validate_auc_df=dh_validate_auc_df[dh_validate_auc_df['label']==0]\n",
    "bad_case_dh_vlidate_df=all_dh_validate_auc_df[all_dh_validate_auc_df['auc']>0.5]\n",
    "bad_case_dh_vlidate_df.drop(['label'],axis=1,inplace=True)\n",
    "bad_case_dh_vlidate=pd.merge(bad_case_dh_vlidate_df,validate,how='inner',on='apply_id')\n",
    "bad_case_dh_vlidate.to_csv(xinshen_dir+\"bad_case_dh_vlidate.csv\",index=False)"
   ]
  },
  {
   "cell_type": "code",
   "execution_count": 39,
   "metadata": {
    "collapsed": false
   },
   "outputs": [
    {
     "data": {
      "text/html": [
       "<div>\n",
       "<table border=\"1\" class=\"dataframe\">\n",
       "  <thead>\n",
       "    <tr style=\"text-align: right;\">\n",
       "      <th></th>\n",
       "      <th>label</th>\n",
       "      <th>time</th>\n",
       "      <th>apply_id</th>\n",
       "      <th>bs_apply_id</th>\n",
       "      <th>transport_id</th>\n",
       "      <th>mortgagor_id</th>\n",
       "      <th>product_type</th>\n",
       "      <th>city_id</th>\n",
       "      <th>domicile_province</th>\n",
       "      <th>domicile_city</th>\n",
       "      <th>...</th>\n",
       "      <th>sum_current_month_bill_amount</th>\n",
       "      <th>sum_overdue_sum</th>\n",
       "      <th>amount</th>\n",
       "      <th>organization_portion</th>\n",
       "      <th>is_overdue</th>\n",
       "      <th>max_renege_count_24</th>\n",
       "      <th>sum_overdue_180</th>\n",
       "      <th>channel_source</th>\n",
       "      <th>known_creditease</th>\n",
       "      <th>is_city_same</th>\n",
       "    </tr>\n",
       "  </thead>\n",
       "  <tbody>\n",
       "    <tr>\n",
       "      <th>0</th>\n",
       "      <td>1</td>\n",
       "      <td>2015-01-05 11:00:57</td>\n",
       "      <td>3529839</td>\n",
       "      <td>3529839</td>\n",
       "      <td>12886140</td>\n",
       "      <td>12897781</td>\n",
       "      <td>1</td>\n",
       "      <td>320500</td>\n",
       "      <td>320000</td>\n",
       "      <td>320900</td>\n",
       "      <td>...</td>\n",
       "      <td>-1</td>\n",
       "      <td>-1</td>\n",
       "      <td>-1</td>\n",
       "      <td>-1</td>\n",
       "      <td>1</td>\n",
       "      <td>0</td>\n",
       "      <td>0</td>\n",
       "      <td>-1</td>\n",
       "      <td>-1</td>\n",
       "      <td>1</td>\n",
       "    </tr>\n",
       "    <tr>\n",
       "      <th>1</th>\n",
       "      <td>1</td>\n",
       "      <td>2015-01-07 20:11:31</td>\n",
       "      <td>3594350</td>\n",
       "      <td>3594350</td>\n",
       "      <td>12905161</td>\n",
       "      <td>12916821</td>\n",
       "      <td>1</td>\n",
       "      <td>410100</td>\n",
       "      <td>410000</td>\n",
       "      <td>410100</td>\n",
       "      <td>...</td>\n",
       "      <td>-1</td>\n",
       "      <td>-1</td>\n",
       "      <td>-1</td>\n",
       "      <td>-1</td>\n",
       "      <td>0</td>\n",
       "      <td>0</td>\n",
       "      <td>0</td>\n",
       "      <td>-1</td>\n",
       "      <td>-1</td>\n",
       "      <td>1</td>\n",
       "    </tr>\n",
       "    <tr>\n",
       "      <th>2</th>\n",
       "      <td>1</td>\n",
       "      <td>2015-01-15 10:33:43</td>\n",
       "      <td>3594687</td>\n",
       "      <td>3594687</td>\n",
       "      <td>12951132</td>\n",
       "      <td>12962837</td>\n",
       "      <td>3</td>\n",
       "      <td>150400</td>\n",
       "      <td>150000</td>\n",
       "      <td>150400</td>\n",
       "      <td>...</td>\n",
       "      <td>-1</td>\n",
       "      <td>-1</td>\n",
       "      <td>-1</td>\n",
       "      <td>-1</td>\n",
       "      <td>1</td>\n",
       "      <td>0</td>\n",
       "      <td>0</td>\n",
       "      <td>-1</td>\n",
       "      <td>-1</td>\n",
       "      <td>1</td>\n",
       "    </tr>\n",
       "    <tr>\n",
       "      <th>3</th>\n",
       "      <td>1</td>\n",
       "      <td>2015-01-06 14:57:38</td>\n",
       "      <td>3605031</td>\n",
       "      <td>3605031</td>\n",
       "      <td>12895032</td>\n",
       "      <td>12906681</td>\n",
       "      <td>1</td>\n",
       "      <td>370300</td>\n",
       "      <td>370000</td>\n",
       "      <td>371600</td>\n",
       "      <td>...</td>\n",
       "      <td>-1</td>\n",
       "      <td>-1</td>\n",
       "      <td>-1</td>\n",
       "      <td>-1</td>\n",
       "      <td>1</td>\n",
       "      <td>0</td>\n",
       "      <td>0</td>\n",
       "      <td>-1</td>\n",
       "      <td>-1</td>\n",
       "      <td>0</td>\n",
       "    </tr>\n",
       "    <tr>\n",
       "      <th>4</th>\n",
       "      <td>0</td>\n",
       "      <td>2015-02-09 18:49:24</td>\n",
       "      <td>3618351</td>\n",
       "      <td>3618351</td>\n",
       "      <td>13140203</td>\n",
       "      <td>13144373</td>\n",
       "      <td>1</td>\n",
       "      <td>350200</td>\n",
       "      <td>350000</td>\n",
       "      <td>350200</td>\n",
       "      <td>...</td>\n",
       "      <td>-1</td>\n",
       "      <td>-1</td>\n",
       "      <td>-1</td>\n",
       "      <td>-1</td>\n",
       "      <td>1</td>\n",
       "      <td>0</td>\n",
       "      <td>0</td>\n",
       "      <td>-1</td>\n",
       "      <td>-1</td>\n",
       "      <td>1</td>\n",
       "    </tr>\n",
       "  </tbody>\n",
       "</table>\n",
       "<p>5 rows × 166 columns</p>\n",
       "</div>"
      ],
      "text/plain": [
       "   label                 time  apply_id  bs_apply_id  transport_id  \\\n",
       "0      1  2015-01-05 11:00:57   3529839      3529839      12886140   \n",
       "1      1  2015-01-07 20:11:31   3594350      3594350      12905161   \n",
       "2      1  2015-01-15 10:33:43   3594687      3594687      12951132   \n",
       "3      1  2015-01-06 14:57:38   3605031      3605031      12895032   \n",
       "4      0  2015-02-09 18:49:24   3618351      3618351      13140203   \n",
       "\n",
       "   mortgagor_id  product_type  city_id  domicile_province  domicile_city  \\\n",
       "0      12897781             1   320500             320000         320900   \n",
       "1      12916821             1   410100             410000         410100   \n",
       "2      12962837             3   150400             150000         150400   \n",
       "3      12906681             1   370300             370000         371600   \n",
       "4      13144373             1   350200             350000         350200   \n",
       "\n",
       "       ...       sum_current_month_bill_amount  sum_overdue_sum  amount  \\\n",
       "0      ...                                  -1               -1      -1   \n",
       "1      ...                                  -1               -1      -1   \n",
       "2      ...                                  -1               -1      -1   \n",
       "3      ...                                  -1               -1      -1   \n",
       "4      ...                                  -1               -1      -1   \n",
       "\n",
       "   organization_portion  is_overdue  max_renege_count_24  sum_overdue_180  \\\n",
       "0                    -1           1                    0                0   \n",
       "1                    -1           0                    0                0   \n",
       "2                    -1           1                    0                0   \n",
       "3                    -1           1                    0                0   \n",
       "4                    -1           1                    0                0   \n",
       "\n",
       "   channel_source  known_creditease  is_city_same  \n",
       "0              -1                -1             1  \n",
       "1              -1                -1             1  \n",
       "2              -1                -1             1  \n",
       "3              -1                -1             0  \n",
       "4              -1                -1             1  \n",
       "\n",
       "[5 rows x 166 columns]"
      ]
     },
     "execution_count": 39,
     "metadata": {},
     "output_type": "execute_result"
    }
   ],
   "source": [
    "train.head()"
   ]
  },
  {
   "cell_type": "code",
   "execution_count": null,
   "metadata": {
    "collapsed": true
   },
   "outputs": [],
   "source": []
  },
  {
   "cell_type": "code",
   "execution_count": null,
   "metadata": {
    "collapsed": false
   },
   "outputs": [],
   "source": [
    "# dh_validate_probs=lr.predict_proba(dh_validate_overdue_x)\n",
    "dh_validate_auc=roc_auc_score(dh_validate_auc_df['label'].values,dh_validate_auc_df['auc'].values)\n",
    "print 'dh_validate_auc set auc is=%s'%(dh_validate_auc)"
   ]
  },
  {
   "cell_type": "code",
   "execution_count": null,
   "metadata": {
    "collapsed": false
   },
   "outputs": [],
   "source": [
    "# dh_test_probs=lr.predict_proba(dh_test_overdue_x)\n",
    "dh_test_auc=roc_auc_score(dh_test_auc_df['label'].values,dh_test_auc_df['auc'].values)\n",
    "print 'dh_test_auc set auc is=%s'%(dh_test_auc)"
   ]
  },
  {
   "cell_type": "code",
   "execution_count": 16,
   "metadata": {
    "collapsed": false
   },
   "outputs": [
    {
     "name": "stderr",
     "output_type": "stream",
     "text": [
      "D:\\software\\Anaconda2\\lib\\site-packages\\ipykernel\\__main__.py:3: FutureWarning: sort(columns=....) is deprecated, use sort_values(by=.....)\n",
      "  app.launch_new_instance()\n"
     ]
    }
   ],
   "source": [
    "train_features_df=pd.read_csv(xinshen_dir+\"train_features_imp_5_11.csv\")\n",
    "\n",
    "train_features_df.sort(columns=['coef'],ascending=False,inplace=True)\n",
    "train_features_df.to_csv(xinshen_dir+\"train_features_imp_5_11.csv\",index=False)"
   ]
  },
  {
   "cell_type": "code",
   "execution_count": 16,
   "metadata": {
    "collapsed": false
   },
   "outputs": [
    {
     "name": "stdout",
     "output_type": "stream",
     "text": [
      "                   coef                        columns\n",
      "0     [-0.600726984173]                    query_times\n",
      "1    [-0.0483623112044]                   is_city_same\n",
      "2     [-0.131551845285]                        city_id\n",
      "3     [-0.874782962283]                 overdue_num_c2\n",
      "4     [-0.988285398033]                 overdue_num_c1\n",
      "5    [-0.0505852944786]                 overdue_num_c6\n",
      "6     [-0.455938002956]                 overdue_num_c5\n",
      "7      [-6.95303297045]                   refuse_times\n",
      "8                 [0.0]                  borrower_type\n",
      "9    [-0.0534968448051]                house_condition\n",
      "10     [-1.26017408467]               known_creditease\n",
      "11     [0.150465590601]  sum_current_month_bill_amount\n",
      "12     [0.221833850212]           organization_portion\n",
      "13      [1.70780541264]                  risk_industry\n",
      "14      [3.75750945478]                   loan_max_num\n",
      "15      [1.59311141134]                 channel_source\n",
      "16     [0.489940523033]        overdue_loan_num90_days\n",
      "17    [-0.145549976433]                 overdue_num_c3\n",
      "18      [2.34281802137]                     fee_months\n",
      "19     [-2.91150796479]                     loan_count\n",
      "20    [0.0466909083394]            customer_ident_type\n",
      "21     [-1.57338400275]                    blocked_num\n",
      "22     [0.647157018184]      outstanding_loan_contract\n",
      "23     [-1.12947546468]                 overdue_num_l6\n",
      "24     [-2.16691863522]                 overdue_num_l4\n",
      "25     [0.516740710387]                 overdue_num_l5\n",
      "26     [-0.83876649836]                 overdue_num_l2\n",
      "27     [0.835126881355]                 overdue_num_l3\n",
      "28     [-3.36016462833]                 overdue_num_l1\n",
      "29     [-2.38754210512]            total_overdue_num_c\n",
      "..                  ...                            ...\n",
      "130  [-0.0344640016186]                      month_pay\n",
      "131     [26.7397477698]                   month_income\n",
      "132    [0.201594120343]                        has_car\n",
      "133    [0.647151447533]                max_loan_amount\n",
      "134   [-0.704919957418]               blocked_card_num\n",
      "135   [-0.119658627953]                credit_card_num\n",
      "136    [-1.19912584735]          last_fund_payment_mon\n",
      "137   [-0.098134071645]            fund_payment_period\n",
      "138    [-1.94792942845]                    break_times\n",
      "139  [-0.0899708019438]                house_city_real\n",
      "140     [1.15750059338]                sum_overdue_sum\n",
      "141     [1.19568057603]            credit_card_max_num\n",
      "142    [-3.87016551421]          total_overdue_count_l\n",
      "143    [0.252005971859]                     fam_stable\n",
      "144   [-0.049347835428]               has_credit_event\n",
      "145     [1.51812803848]              bad_dept_card_num\n",
      "146     [2.44504073205]                   credit_grade\n",
      "147     [3.56439888981]                 nomal_card_num\n",
      "148    [-2.42129517554]             apply_reject_count\n",
      "149     [0.76822099198]                   job_position\n",
      "150     [6.14139804839]                   product_type\n",
      "151    [0.642691004842]                            age\n",
      "152     [-31.935490688]         max_total_overdue_days\n",
      "153     [5.81078316142]                     pledge_num\n",
      "154     [17.0175120083]                             n1\n",
      "155     [7.21067436984]                             n2\n",
      "156     [1.98038155478]                             n3\n",
      "157    [-5.72322368475]                             n4\n",
      "158    [-9.24802591304]                             n5\n",
      "159    [0.296645590941]            corp_regist_capital\n",
      "\n",
      "[160 rows x 2 columns]\n"
     ]
    }
   ],
   "source": [
    "train_features_df=pd.DataFrame({\"columns\":list(train[features].columns), \"coef\":list(lr.coef_.T)})\n",
    "train_features_df.to_csv(xinshen_dir+\"train_features_imp.csv\",index=False)\n",
    "print train_features_df"
   ]
  },
  {
   "cell_type": "code",
   "execution_count": 21,
   "metadata": {
    "collapsed": false
   },
   "outputs": [
    {
     "data": {
      "text/plain": [
       "-1.00         161385\n",
       " 0.00            565\n",
       " 2000.00         341\n",
       " 3000.00         323\n",
       " 3500.00         214\n",
       " 2500.00         187\n",
       " 1500.00         166\n",
       " 1800.00         124\n",
       " 2200.00         123\n",
       " 5000.00         115\n",
       " 2800.00         108\n",
       " 2300.00         108\n",
       " 2400.00          97\n",
       " 4000.00          95\n",
       " 2600.00          93\n",
       " 2100.00          91\n",
       " 1600.00          83\n",
       " 2666.67          79\n",
       " 1900.00          78\n",
       " 1200.00          77\n",
       " 1000.00          71\n",
       " 1700.00          71\n",
       " 3100.00          69\n",
       " 2333.33          68\n",
       " 3333.33          68\n",
       " 3400.00          65\n",
       " 6000.00          61\n",
       " 3200.00          60\n",
       " 2900.00          60\n",
       " 1400.00          59\n",
       "               ...  \n",
       " 2756.06           1\n",
       " 8994.58           1\n",
       " 6494.39           1\n",
       " 9889.51           1\n",
       " 33028.33          1\n",
       " 2118.38           1\n",
       " 3817.15           1\n",
       " 9438.67           1\n",
       " 4431.92           1\n",
       " 2602.56           1\n",
       " 26354.00          1\n",
       " 2646.46           1\n",
       " 2500.27           1\n",
       " 8217.70           1\n",
       " 4852.29           1\n",
       " 4228.77           1\n",
       " 2588.45           1\n",
       " 2980.47           1\n",
       " 4317.01           1\n",
       " 3016.66           1\n",
       " 5514.82           1\n",
       " 216227.33         1\n",
       " 10832.14          1\n",
       " 3769.66           1\n",
       " 4892.56           1\n",
       " 5683.30           1\n",
       " 1626.76           1\n",
       " 65676.67          1\n",
       " 34916.33          1\n",
       " 3455.10           1\n",
       "Name: month_income, dtype: int64"
      ]
     },
     "execution_count": 21,
     "metadata": {},
     "output_type": "execute_result"
    }
   ],
   "source": [
    "train['month_income'].value_counts()"
   ]
  },
  {
   "cell_type": "code",
   "execution_count": 22,
   "metadata": {
    "collapsed": false
   },
   "outputs": [
    {
     "data": {
      "text/plain": [
       "-1.0000         92393\n",
       " 0.0000           933\n",
       " 3000.0000        121\n",
       " 2000.0000        107\n",
       " 3500.0000         99\n",
       " 2500.0000         64\n",
       " 2300.0000         45\n",
       " 2600.0000         45\n",
       " 2200.0000         44\n",
       " 2100.0000         42\n",
       " 2400.0000         37\n",
       " 2800.0000         33\n",
       " 2700.0000         29\n",
       " 3200.0000         28\n",
       " 3300.0000         28\n",
       " 3985.0000         24\n",
       " 2150.0000         23\n",
       " 3150.0000         22\n",
       " 2250.0000         21\n",
       " 2625.0000         21\n",
       " 2750.0000         21\n",
       " 2900.0000         20\n",
       " 3250.0000         20\n",
       " 2350.0000         19\n",
       " 4955.0000         19\n",
       " 2050.0000         18\n",
       " 2650.0000         17\n",
       " 3450.0000         17\n",
       " 2880.0000         17\n",
       " 2825.0000         17\n",
       "                ...  \n",
       " 5180.0050          1\n",
       " 2821.4600          1\n",
       " 5547.6292          1\n",
       " 6063.9400          1\n",
       " 4692.3500          1\n",
       " 5375.3375          1\n",
       " 1915.7350          1\n",
       " 3013.8100          1\n",
       " 3518.3425          1\n",
       " 138637.0300        1\n",
       " 4750.7325          1\n",
       " 3911.4625          1\n",
       " 6294.2750          1\n",
       " 3110.4850          1\n",
       " 9834.0125          1\n",
       " 2803.2450          1\n",
       " 131490.0000        1\n",
       " 15479.8333         1\n",
       " 2402.5350          1\n",
       " 3581.0300          1\n",
       " 3216.9625          1\n",
       " 4211.6725          1\n",
       " 6467.3300          1\n",
       " 2272.8650          1\n",
       " 4463.6475          1\n",
       " 7499.8100          1\n",
       " 3285.0025          1\n",
       " 3077.4625          1\n",
       " 5063.7225          1\n",
       " 3497.8000          1\n",
       "Name: month_income, dtype: int64"
      ]
     },
     "execution_count": 22,
     "metadata": {},
     "output_type": "execute_result"
    }
   ],
   "source": [
    "validate['month_income'].value_counts()"
   ]
  },
  {
   "cell_type": "code",
   "execution_count": null,
   "metadata": {
    "collapsed": true
   },
   "outputs": [],
   "source": []
  },
  {
   "cell_type": "code",
   "execution_count": 16,
   "metadata": {
    "collapsed": true
   },
   "outputs": [],
   "source": [
    "#####以验证集作为测试集"
   ]
  },
  {
   "cell_type": "code",
   "execution_count": 17,
   "metadata": {
    "collapsed": false
   },
   "outputs": [
    {
     "name": "stdout",
     "output_type": "stream",
     "text": [
      "test set auc is=0.809644735805\n",
      "                   coef                        columns\n",
      "0       [4.95425650745]                    query_times\n",
      "1     [-0.013319550232]                   is_city_same\n",
      "2     [-0.382665308322]                        city_id\n",
      "3    [-0.0782373871618]                 overdue_num_c2\n",
      "4      [0.429988183653]                 overdue_num_c1\n",
      "5      [0.130749643297]                 overdue_num_c6\n",
      "6     [-0.929336198527]                 overdue_num_c5\n",
      "7      [-29.3394554762]                   refuse_times\n",
      "8      [-4.74498486826]              stop_pay_card_num\n",
      "9     [-0.048870751741]                house_condition\n",
      "10    [-0.062226500821]               known_creditease\n",
      "11     [-6.18203183501]  sum_current_month_bill_amount\n",
      "12     [-1.69201270901]           organization_portion\n",
      "13      [1.96944447555]                  risk_industry\n",
      "14      [6.03681504563]                   loan_max_num\n",
      "15    [-0.765158887925]                 channel_source\n",
      "16    [-0.516237478361]        overdue_loan_num90_days\n",
      "17      [1.24609565796]                 overdue_num_c3\n",
      "18      [1.95168946654]                     fee_months\n",
      "19     [-2.82623716946]                     loan_count\n",
      "20     [-1.01278971587]            customer_ident_type\n",
      "21    [-0.566001111134]                    blocked_num\n",
      "22     [-1.30230049129]      outstanding_loan_contract\n",
      "23     [0.461937429728]                 overdue_num_l6\n",
      "24      [1.10736113619]                 overdue_num_l4\n",
      "25     [-1.20494385104]                 overdue_num_l5\n",
      "26      [0.49494983542]                 overdue_num_l2\n",
      "27     [0.490085420295]                 overdue_num_l3\n",
      "28     [-1.25683187145]                 overdue_num_l1\n",
      "29     [0.861087258443]            total_overdue_num_c\n",
      "..                  ...                            ...\n",
      "126    [-1.00800564273]                   month_income\n",
      "127    [0.099471731569]                        has_car\n",
      "128    [-3.44164244731]                max_loan_amount\n",
      "129     [-6.2724017285]               blocked_card_num\n",
      "130    [-1.61290444364]                credit_card_num\n",
      "131     [-1.2461565501]          last_fund_payment_mon\n",
      "132    [0.543277813882]            fund_payment_period\n",
      "133    [0.501939573897]                    break_times\n",
      "134    [0.036743866965]                house_city_real\n",
      "135    [-3.37643487636]                sum_overdue_sum\n",
      "136    [-1.11562563201]            credit_card_max_num\n",
      "137    [-3.03459998452]          total_overdue_count_l\n",
      "138  [-0.0207050704153]                     fam_stable\n",
      "139  [-0.0374510155594]               has_credit_event\n",
      "140    [-7.39588178081]              bad_dept_card_num\n",
      "141    [-15.7208556782]                   credit_grade\n",
      "142      [2.1795079777]                 nomal_card_num\n",
      "143    [-4.51242033732]             apply_reject_count\n",
      "144    [0.635727075465]                   job_position\n",
      "145     [3.52992125645]                   product_type\n",
      "146    [0.354022498918]                            age\n",
      "147  [-0.0577244952284]         max_total_overdue_days\n",
      "148     [3.70219155449]                     pledge_num\n",
      "149   [-0.359418749152]                             n1\n",
      "150     [2.78963775969]                             n2\n",
      "151     [1.55842077208]                             n3\n",
      "152    [0.996494424315]                             n4\n",
      "153     [1.44219024057]                             n5\n",
      "154   [0.0683064046458]          non_activate_card_num\n",
      "155    [-3.35397776591]            corp_regist_capital\n",
      "\n",
      "[156 rows x 2 columns]\n"
     ]
    },
    {
     "name": "stderr",
     "output_type": "stream",
     "text": [
      "D:\\software\\Anaconda2\\lib\\site-packages\\sklearn\\linear_model\\sag.py:286: ConvergenceWarning: The max_iter was reached which means the coef_ did not converge\n",
      "  \"the coef_ did not converge\", ConvergenceWarning)\n"
     ]
    }
   ],
   "source": [
    "from sklearn import preprocessing\n",
    "scaler = preprocessing.MinMaxScaler()\n",
    "features_v=list(set(set(validate.columns.tolist())-set(['label'])))\n",
    "val_x=scaler.fit_transform(validate[features_v].values)  \n",
    "val_y=validate['label'].values\n",
    "\n",
    "test_x=scaler.transform(test[features_v].values)\n",
    "test_y=test['label'].values\n",
    "\n",
    "from sklearn.externals import joblib\n",
    "lrv = LogisticRegression(penalty='l2',C=10.0,class_weight='balanced',random_state=1024,solver='sag')\n",
    "lrv.fit(val_x,val_y)\n",
    "joblib.dump(lrv,xinshen_dir+'lrv_model.pkl') \n",
    "lrv = joblib.load(xinshen_dir+'lrv_model.pkl')\n",
    "\n",
    "testv_probs=lrv.predict_proba(test_x)\n",
    "testv_auc=roc_auc_score(test_y,testv_probs[:,1])\n",
    "print 'test set auc is=%s'%(testv_auc)\n",
    "\n",
    "val_features_df=pd.DataFrame({\"columns\":list(validate[features_v].columns), \"coef\":list(lrv.coef_.T)})\n",
    "val_features_df.to_csv(xinshen_dir+\"val_features_imp.csv\",index=False)\n",
    "print val_features_df"
   ]
  },
  {
   "cell_type": "code",
   "execution_count": 19,
   "metadata": {
    "collapsed": false
   },
   "outputs": [
    {
     "name": "stderr",
     "output_type": "stream",
     "text": [
      "D:\\software\\Anaconda2\\lib\\site-packages\\ipykernel\\__main__.py:4: FutureWarning: sort(columns=....) is deprecated, use sort_values(by=.....)\n",
      "D:\\software\\Anaconda2\\lib\\site-packages\\ipykernel\\__main__.py:5: FutureWarning: sort(columns=....) is deprecated, use sort_values(by=.....)\n"
     ]
    }
   ],
   "source": [
    "train_features_df=pd.read_csv(xinshen_dir+\"train_features_imp.csv\")\n",
    "val_features_df=pd.read_csv(xinshen_dir+\"val_features_imp.csv\")\n",
    "\n",
    "train_features_df.sort(columns=['coef'],ascending=False,inplace=True)\n",
    "val_features_df.sort(columns=['coef'],ascending=False,inplace=True)\n",
    "\n",
    "train_features_df.to_csv(xinshen_dir+\"train_features_imp.csv\",index=False)\n",
    "val_features_df.to_csv(xinshen_dir+\"val_features_imp.csv\",index=False)"
   ]
  },
  {
   "cell_type": "code",
   "execution_count": 15,
   "metadata": {
    "collapsed": true
   },
   "outputs": [],
   "source": [
    "feat_df=DataFrame({'feat':features})\n",
    "feat_df.to_csv(xinshen_dir+\"features.csv\",index=False)"
   ]
  },
  {
   "cell_type": "code",
   "execution_count": null,
   "metadata": {
    "collapsed": true
   },
   "outputs": [],
   "source": []
  }
 ],
 "metadata": {
  "kernelspec": {
   "display_name": "Python 2",
   "language": "python",
   "name": "python2"
  },
  "language_info": {
   "codemirror_mode": {
    "name": "ipython",
    "version": 2
   },
   "file_extension": ".py",
   "mimetype": "text/x-python",
   "name": "python",
   "nbconvert_exporter": "python",
   "pygments_lexer": "ipython2",
   "version": "2.7.13"
  }
 },
 "nbformat": 4,
 "nbformat_minor": 0
}
